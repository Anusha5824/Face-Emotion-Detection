{
  "nbformat": 4,
  "nbformat_minor": 0,
  "metadata": {
    "colab": {
      "name": "Facial Emotion Detection_ML.ipynb",
      "provenance": [],
      "collapsed_sections": [],
      "authorship_tag": "ABX9TyNaFDjAmerMmbS8iBdCR7s2",
      "include_colab_link": true
    },
    "kernelspec": {
      "name": "python3",
      "display_name": "Python 3"
    },
    "language_info": {
      "name": "python"
    }
  },
  "cells": [
    {
      "cell_type": "markdown",
      "metadata": {
        "id": "view-in-github",
        "colab_type": "text"
      },
      "source": [
        "<a href=\"https://colab.research.google.com/github/Anusha5824/Face-Emotion-Detection/blob/main/Facial_Emotion_Detection_ML.ipynb\" target=\"_parent\"><img src=\"https://colab.research.google.com/assets/colab-badge.svg\" alt=\"Open In Colab\"/></a>"
      ]
    },
    {
      "cell_type": "markdown",
      "source": [
        "# **Emotion Recognition**"
      ],
      "metadata": {
        "id": "R2p7vQgNwaGw"
      }
    },
    {
      "cell_type": "markdown",
      "source": [
        "###Importing Libraries"
      ],
      "metadata": {
        "id": "H73ORL7Bv7QY"
      }
    },
    {
      "cell_type": "code",
      "execution_count": null,
      "metadata": {
        "id": "6g7MmS6iv3A4"
      },
      "outputs": [],
      "source": [
        "import numpy as np\n",
        "import math\n",
        "import time\n",
        "\n",
        "from sklearn.svm import SVC\n",
        "import seaborn as sn\n",
        "from matplotlib import pyplot as plt\n",
        "from sklearn.preprocessing import StandardScaler\n",
        "from sklearn.model_selection import train_test_split\n",
        "from sklearn.decomposition import PCA\n",
        "import cv2\n",
        "from sklearn.metrics import confusion_matrix\n",
        "from sklearn.metrics import classification_report\n",
        "from sklearn.model_selection import RandomizedSearchCV\n",
        "from sklearn.model_selection import GridSearchCV"
      ]
    },
    {
      "cell_type": "markdown",
      "source": [
        "### Importing dataset"
      ],
      "metadata": {
        "id": "NgJwMlTZucCP"
      }
    },
    {
      "cell_type": "code",
      "source": [
        "import pandas as pd\n",
        "from google.colab import drive \n",
        "drive.mount('/content/drive')\n",
        "df = pd.read_csv('/content/drive/MyDrive/NNDL/fer2013.csv')"
      ],
      "metadata": {
        "colab": {
          "base_uri": "https://localhost:8080/"
        },
        "id": "y3BYqABluoIe",
        "outputId": "2d2b74b6-1e04-4b71-be47-a004713f3c29"
      },
      "execution_count": null,
      "outputs": [
        {
          "output_type": "stream",
          "name": "stdout",
          "text": [
            "Drive already mounted at /content/drive; to attempt to forcibly remount, call drive.mount(\"/content/drive\", force_remount=True).\n"
          ]
        }
      ]
    },
    {
      "cell_type": "code",
      "source": [
        "df.shape"
      ],
      "metadata": {
        "colab": {
          "base_uri": "https://localhost:8080/"
        },
        "id": "-A26zaXLiMEF",
        "outputId": "3d66d7e5-ab7e-497b-e231-01b776e84a91"
      },
      "execution_count": null,
      "outputs": [
        {
          "output_type": "execute_result",
          "data": {
            "text/plain": [
              "(35887, 3)"
            ]
          },
          "metadata": {},
          "execution_count": 24
        }
      ]
    },
    {
      "cell_type": "code",
      "source": [
        "len(df.pixels.iloc[0].split(' ')) == 48*48 #iloc function helps us to select particular cell of the dataset"
      ],
      "metadata": {
        "colab": {
          "base_uri": "https://localhost:8080/"
        },
        "id": "xDoU5xKZzbRg",
        "outputId": "9185b213-63f5-41b4-f70d-3366976bdf21"
      },
      "execution_count": null,
      "outputs": [
        {
          "output_type": "execute_result",
          "data": {
            "text/plain": [
              "True"
            ]
          },
          "metadata": {},
          "execution_count": 25
        }
      ]
    },
    {
      "cell_type": "code",
      "source": [
        "df.head(10)"
      ],
      "metadata": {
        "colab": {
          "base_uri": "https://localhost:8080/",
          "height": 363
        },
        "id": "EomuZgy5zckb",
        "outputId": "3a132e35-0c95-4b85-8e4a-13b1ae1e0d90"
      },
      "execution_count": null,
      "outputs": [
        {
          "output_type": "execute_result",
          "data": {
            "text/plain": [
              "   emotion                                             pixels     Usage\n",
              "0        0  70 80 82 72 58 58 60 63 54 58 60 48 89 115 121...  Training\n",
              "1        0  151 150 147 155 148 133 111 140 170 174 182 15...  Training\n",
              "2        2  231 212 156 164 174 138 161 173 182 200 106 38...  Training\n",
              "3        4  24 32 36 30 32 23 19 20 30 41 21 22 32 34 21 1...  Training\n",
              "4        6  4 0 0 0 0 0 0 0 0 0 0 0 3 15 23 28 48 50 58 84...  Training\n",
              "5        2  55 55 55 55 55 54 60 68 54 85 151 163 170 179 ...  Training\n",
              "6        4  20 17 19 21 25 38 42 42 46 54 56 62 63 66 82 1...  Training\n",
              "7        3  77 78 79 79 78 75 60 55 47 48 58 73 77 79 57 5...  Training\n",
              "8        3  85 84 90 121 101 102 133 153 153 169 177 189 1...  Training\n",
              "9        2  255 254 255 254 254 179 122 107 95 124 149 150...  Training"
            ],
            "text/html": [
              "\n",
              "  <div id=\"df-5365b0ed-4200-4953-bbce-0995550407ac\">\n",
              "    <div class=\"colab-df-container\">\n",
              "      <div>\n",
              "<style scoped>\n",
              "    .dataframe tbody tr th:only-of-type {\n",
              "        vertical-align: middle;\n",
              "    }\n",
              "\n",
              "    .dataframe tbody tr th {\n",
              "        vertical-align: top;\n",
              "    }\n",
              "\n",
              "    .dataframe thead th {\n",
              "        text-align: right;\n",
              "    }\n",
              "</style>\n",
              "<table border=\"1\" class=\"dataframe\">\n",
              "  <thead>\n",
              "    <tr style=\"text-align: right;\">\n",
              "      <th></th>\n",
              "      <th>emotion</th>\n",
              "      <th>pixels</th>\n",
              "      <th>Usage</th>\n",
              "    </tr>\n",
              "  </thead>\n",
              "  <tbody>\n",
              "    <tr>\n",
              "      <th>0</th>\n",
              "      <td>0</td>\n",
              "      <td>70 80 82 72 58 58 60 63 54 58 60 48 89 115 121...</td>\n",
              "      <td>Training</td>\n",
              "    </tr>\n",
              "    <tr>\n",
              "      <th>1</th>\n",
              "      <td>0</td>\n",
              "      <td>151 150 147 155 148 133 111 140 170 174 182 15...</td>\n",
              "      <td>Training</td>\n",
              "    </tr>\n",
              "    <tr>\n",
              "      <th>2</th>\n",
              "      <td>2</td>\n",
              "      <td>231 212 156 164 174 138 161 173 182 200 106 38...</td>\n",
              "      <td>Training</td>\n",
              "    </tr>\n",
              "    <tr>\n",
              "      <th>3</th>\n",
              "      <td>4</td>\n",
              "      <td>24 32 36 30 32 23 19 20 30 41 21 22 32 34 21 1...</td>\n",
              "      <td>Training</td>\n",
              "    </tr>\n",
              "    <tr>\n",
              "      <th>4</th>\n",
              "      <td>6</td>\n",
              "      <td>4 0 0 0 0 0 0 0 0 0 0 0 3 15 23 28 48 50 58 84...</td>\n",
              "      <td>Training</td>\n",
              "    </tr>\n",
              "    <tr>\n",
              "      <th>5</th>\n",
              "      <td>2</td>\n",
              "      <td>55 55 55 55 55 54 60 68 54 85 151 163 170 179 ...</td>\n",
              "      <td>Training</td>\n",
              "    </tr>\n",
              "    <tr>\n",
              "      <th>6</th>\n",
              "      <td>4</td>\n",
              "      <td>20 17 19 21 25 38 42 42 46 54 56 62 63 66 82 1...</td>\n",
              "      <td>Training</td>\n",
              "    </tr>\n",
              "    <tr>\n",
              "      <th>7</th>\n",
              "      <td>3</td>\n",
              "      <td>77 78 79 79 78 75 60 55 47 48 58 73 77 79 57 5...</td>\n",
              "      <td>Training</td>\n",
              "    </tr>\n",
              "    <tr>\n",
              "      <th>8</th>\n",
              "      <td>3</td>\n",
              "      <td>85 84 90 121 101 102 133 153 153 169 177 189 1...</td>\n",
              "      <td>Training</td>\n",
              "    </tr>\n",
              "    <tr>\n",
              "      <th>9</th>\n",
              "      <td>2</td>\n",
              "      <td>255 254 255 254 254 179 122 107 95 124 149 150...</td>\n",
              "      <td>Training</td>\n",
              "    </tr>\n",
              "  </tbody>\n",
              "</table>\n",
              "</div>\n",
              "      <button class=\"colab-df-convert\" onclick=\"convertToInteractive('df-5365b0ed-4200-4953-bbce-0995550407ac')\"\n",
              "              title=\"Convert this dataframe to an interactive table.\"\n",
              "              style=\"display:none;\">\n",
              "        \n",
              "  <svg xmlns=\"http://www.w3.org/2000/svg\" height=\"24px\"viewBox=\"0 0 24 24\"\n",
              "       width=\"24px\">\n",
              "    <path d=\"M0 0h24v24H0V0z\" fill=\"none\"/>\n",
              "    <path d=\"M18.56 5.44l.94 2.06.94-2.06 2.06-.94-2.06-.94-.94-2.06-.94 2.06-2.06.94zm-11 1L8.5 8.5l.94-2.06 2.06-.94-2.06-.94L8.5 2.5l-.94 2.06-2.06.94zm10 10l.94 2.06.94-2.06 2.06-.94-2.06-.94-.94-2.06-.94 2.06-2.06.94z\"/><path d=\"M17.41 7.96l-1.37-1.37c-.4-.4-.92-.59-1.43-.59-.52 0-1.04.2-1.43.59L10.3 9.45l-7.72 7.72c-.78.78-.78 2.05 0 2.83L4 21.41c.39.39.9.59 1.41.59.51 0 1.02-.2 1.41-.59l7.78-7.78 2.81-2.81c.8-.78.8-2.07 0-2.86zM5.41 20L4 18.59l7.72-7.72 1.47 1.35L5.41 20z\"/>\n",
              "  </svg>\n",
              "      </button>\n",
              "      \n",
              "  <style>\n",
              "    .colab-df-container {\n",
              "      display:flex;\n",
              "      flex-wrap:wrap;\n",
              "      gap: 12px;\n",
              "    }\n",
              "\n",
              "    .colab-df-convert {\n",
              "      background-color: #E8F0FE;\n",
              "      border: none;\n",
              "      border-radius: 50%;\n",
              "      cursor: pointer;\n",
              "      display: none;\n",
              "      fill: #1967D2;\n",
              "      height: 32px;\n",
              "      padding: 0 0 0 0;\n",
              "      width: 32px;\n",
              "    }\n",
              "\n",
              "    .colab-df-convert:hover {\n",
              "      background-color: #E2EBFA;\n",
              "      box-shadow: 0px 1px 2px rgba(60, 64, 67, 0.3), 0px 1px 3px 1px rgba(60, 64, 67, 0.15);\n",
              "      fill: #174EA6;\n",
              "    }\n",
              "\n",
              "    [theme=dark] .colab-df-convert {\n",
              "      background-color: #3B4455;\n",
              "      fill: #D2E3FC;\n",
              "    }\n",
              "\n",
              "    [theme=dark] .colab-df-convert:hover {\n",
              "      background-color: #434B5C;\n",
              "      box-shadow: 0px 1px 3px 1px rgba(0, 0, 0, 0.15);\n",
              "      filter: drop-shadow(0px 1px 2px rgba(0, 0, 0, 0.3));\n",
              "      fill: #FFFFFF;\n",
              "    }\n",
              "  </style>\n",
              "\n",
              "      <script>\n",
              "        const buttonEl =\n",
              "          document.querySelector('#df-5365b0ed-4200-4953-bbce-0995550407ac button.colab-df-convert');\n",
              "        buttonEl.style.display =\n",
              "          google.colab.kernel.accessAllowed ? 'block' : 'none';\n",
              "\n",
              "        async function convertToInteractive(key) {\n",
              "          const element = document.querySelector('#df-5365b0ed-4200-4953-bbce-0995550407ac');\n",
              "          const dataTable =\n",
              "            await google.colab.kernel.invokeFunction('convertToInteractive',\n",
              "                                                     [key], {});\n",
              "          if (!dataTable) return;\n",
              "\n",
              "          const docLinkHtml = 'Like what you see? Visit the ' +\n",
              "            '<a target=\"_blank\" href=https://colab.research.google.com/notebooks/data_table.ipynb>data table notebook</a>'\n",
              "            + ' to learn more about interactive tables.';\n",
              "          element.innerHTML = '';\n",
              "          dataTable['output_type'] = 'display_data';\n",
              "          await google.colab.output.renderOutput(dataTable, element);\n",
              "          const docLink = document.createElement('div');\n",
              "          docLink.innerHTML = docLinkHtml;\n",
              "          element.appendChild(docLink);\n",
              "        }\n",
              "      </script>\n",
              "    </div>\n",
              "  </div>\n",
              "  "
            ]
          },
          "metadata": {},
          "execution_count": 26
        }
      ]
    },
    {
      "cell_type": "code",
      "source": [
        "expression_map = {0:'Anger',\n",
        "                  1:'Disgust',\n",
        "                  2:'Fear',\n",
        "                  3:'Happy',\n",
        "                  4:'Sad',\n",
        "                  5:'Surprise',\n",
        "                  6:'Neutral'}"
      ],
      "metadata": {
        "id": "mT8glWJTzc0-"
      },
      "execution_count": null,
      "outputs": []
    },
    {
      "cell_type": "code",
      "source": [
        "df.emotion.value_counts()"
      ],
      "metadata": {
        "colab": {
          "base_uri": "https://localhost:8080/"
        },
        "id": "4XTMsRgp91zT",
        "outputId": "b6d6c9bd-3a3a-4596-bce4-5de72da35662"
      },
      "execution_count": null,
      "outputs": [
        {
          "output_type": "execute_result",
          "data": {
            "text/plain": [
              "3    8989\n",
              "6    6198\n",
              "4    6077\n",
              "2    5121\n",
              "0    4953\n",
              "5    4002\n",
              "1     547\n",
              "Name: emotion, dtype: int64"
            ]
          },
          "metadata": {},
          "execution_count": 28
        }
      ]
    },
    {
      "cell_type": "code",
      "source": [
        "sn.set_theme(style='darkgrid')\n",
        "ax = sn.countplot(x='emotion', data=df)"
      ],
      "metadata": {
        "id": "LbawHCW44U0s",
        "colab": {
          "base_uri": "https://localhost:8080/",
          "height": 285
        },
        "outputId": "53c2c1f3-323b-47e7-dd9f-d744a7763779"
      },
      "execution_count": null,
      "outputs": [
        {
          "output_type": "display_data",
          "data": {
            "text/plain": [
              "<Figure size 432x288 with 1 Axes>"
            ],
            "image/png": "[encoded data removed]"
          },
          "metadata": {}
        }
      ]
    },
    {
      "cell_type": "code",
      "source": [
        "x_data = df['emotion']\n",
        "y_data = df['pixels']"
      ],
      "metadata": {
        "id": "LU3j7Idz6FkZ"
      },
      "execution_count": null,
      "outputs": []
    },
    {
      "cell_type": "code",
      "source": [
        "from imblearn.over_sampling import RandomOverSampler \n",
        "oversampler = RandomOverSampler(sampling_strategy=\"auto\")\n",
        "\n",
        "x_data, y_data = oversampler.fit_resample(x_data.values.reshape(-1,1), y_data)\n",
        "print(x_data.shape, y_data.shape)"
      ],
      "metadata": {
        "id": "Zd4gRODu4Wsc",
        "colab": {
          "base_uri": "https://localhost:8080/"
        },
        "outputId": "16d0cb06-b11d-4636-e097-02e5ababbc0a"
      },
      "execution_count": null,
      "outputs": [
        {
          "output_type": "stream",
          "name": "stdout",
          "text": [
            "(408408, 1) (408408,)\n"
          ]
        }
      ]
    },
    {
      "cell_type": "code",
      "source": [
        "x_data = pd.Series(x_data.flatten()) #pd.Series is 1D ndarray with axis labels \n",
        "x_data"
      ],
      "metadata": {
        "colab": {
          "base_uri": "https://localhost:8080/"
        },
        "id": "c_B6285Ihan4",
        "outputId": "c1358a5c-bc4c-4c85-c65e-e3a519201d29"
      },
      "execution_count": null,
      "outputs": [
        {
          "output_type": "execute_result",
          "data": {
            "text/plain": [
              "0         0\n",
              "1         0\n",
              "2         2\n",
              "3         4\n",
              "4         6\n",
              "         ..\n",
              "408403    3\n",
              "408404    3\n",
              "408405    3\n",
              "408406    3\n",
              "408407    3\n",
              "Length: 408408, dtype: int64"
            ]
          },
          "metadata": {},
          "execution_count": 33
        }
      ]
    },
    {
      "cell_type": "code",
      "source": [
        "y_data.value_counts()"
      ],
      "metadata": {
        "colab": {
          "base_uri": "https://localhost:8080/"
        },
        "id": "QZZh96VdgVK9",
        "outputId": "7d952656-3913-4083-b912-ce8ebb11fdc3"
      },
      "execution_count": null,
      "outputs": [
        {
          "output_type": "execute_result",
          "data": {
            "text/plain": [
              "70 80 82 72 58 58 60 63 54 58 60 48 89 115 121 119 115 110 98 91 84 84 90 99 110 126 143 153 158 171 169 172 169 165 129 110 113 107 95 79 66 62 56 57 61 52 43 41 65 61 58 57 56 69 75 70 65 56 54 105 146 154 151 151 155 155 150 147 147 148 152 158 164 172 177 182 186 189 188 190 188 180 167 116 95 103 97 77 72 62 55 58 54 56 52 44 50 43 54 64 63 71 68 64 52 66 119 156 161 164 163 164 167 168 170 174 175 176 178 179 183 187 190 195 197 198 197 198 195 191 190 145 86 100 90 65 57 60 54 51 41 49 56 47 38 44 63 55 46 52 54 55 83 138 157 158 165 168 172 171 173 176 179 179 180 182 185 187 189 189 192 197 200 199 196 198 200 198 197 177 91 87 96 58 58 59 51 42 37 41 47 45 37 35 36 30 41 47 59 94 141 159 161 161 164 170 171 172 176 178 179 182 183 183 187 189 192 192 194 195 200 200 199 199 200 201 197 193 111 71 108 69 55 61 51 42 43 56 54 44 24 29 31 45 61 72 100 136 150 159 163 162 163 170 172 171 174 177 177 180 187 186 187 189 192 192 194 195 196 197 199 200 201 200 197 201 137 58 98 92 57 62 53 47 41 40 51 43 24 35 52 63 75 104 129 143 149 158 162 164 166 171 173 172 174 178 178 179 187 188 188 191 193 194 195 198 199 199 197 198 197 197 197 201 164 52 78 87 69 58 56 50 54 39 44 42 26 31 49 65 91 119 134 145 147 152 159 163 167 171 170 169 174 178 178 179 187 187 185 187 190 188 187 191 197 201 199 199 200 197 196 197 182 58 62 77 61 60 55 49 59 52 54 44 22 30 47 68 102 123 136 144 148 150 153 157 167 172 173 170 171 177 179 178 186 190 186 189 196 193 191 194 190 190 192 197 201 203 199 194 189 69 48 74 56 60 57 50 59 59 51 41 20 34 47 79 111 132 139 143 145 147 150 151 160 169 172 171 167 171 177 177 174 180 182 181 192 196 189 192 198 195 194 196 198 201 202 195 189 70 39 69 61 61 61 53 59 59 45 40 26 40 61 93 124 135 138 142 144 146 151 152 158 165 168 168 165 161 164 173 172 167 172 167 180 198 198 193 199 195 194 198 200 198 197 195 190 65 35 68 59 59 62 57 60 59 50 44 32 54 90 115 132 137 138 140 144 146 146 156 165 168 174 176 176 175 168 168 169 171 175 171 172 192 194 184 198 205 201 194 195 193 195 192 186 57 38 72 65 57 62 58 57 60 54 49 47 79 116 130 138 141 141 139 141 143 145 157 164 164 166 173 174 176 179 179 176 181 189 188 173 180 175 160 182 189 198 192 189 190 190 188 172 46 44 64 66 59 62 57 56 62 53 50 66 103 133 137 141 143 141 136 132 131 136 127 118 111 107 108 123 131 143 154 158 166 177 181 175 170 159 148 171 161 176 185 192 194 188 190 162 53 49 58 63 61 61 55 56 61 51 50 81 116 139 142 142 146 144 136 128 119 112 97 85 90 91 88 92 90 80 81 84 106 122 132 144 145 144 147 163 147 163 173 181 190 187 191 167 61 48 53 61 61 58 54 56 61 51 53 89 123 140 144 145 146 147 136 122 107 99 95 92 90 87 83 76 67 52 46 52 63 69 83 96 119 132 148 159 136 137 143 138 143 152 156 156 70 48 50 59 61 57 54 54 61 52 56 93 124 135 140 144 148 150 140 125 114 101 80 54 56 54 41 41 33 40 39 35 49 60 63 74 107 129 147 147 116 111 100 77 76 86 108 111 73 49 50 60 62 60 57 55 63 59 56 89 121 134 139 146 151 152 150 141 127 111 96 77 85 70 32 31 37 91 65 50 48 59 73 83 112 136 155 130 60 46 38 40 43 81 116 91 72 52 48 58 62 62 59 53 61 59 52 85 114 134 140 147 154 159 158 153 145 143 150 126 121 125 68 45 89 137 95 70 78 75 95 109 131 153 171 94 23 16 32 82 82 65 113 77 71 54 48 56 62 62 60 53 60 56 52 75 108 133 141 149 158 166 169 167 163 156 155 146 112 119 134 127 142 140 121 117 129 114 120 129 146 174 191 98 46 33 33 109 147 98 109 67 73 55 50 56 64 64 61 58 61 53 54 64 106 129 140 148 159 169 175 176 174 165 159 156 145 120 115 124 127 131 133 141 147 142 141 147 161 182 202 154 114 96 100 158 158 153 123 61 76 57 48 56 64 64 63 62 61 54 55 44 97 131 137 147 158 168 177 181 183 179 170 168 169 165 155 152 151 152 154 162 165 158 153 158 168 187 206 186 147 135 144 145 152 178 115 57 74 58 48 58 64 63 63 59 63 55 53 66 104 130 132 144 153 162 170 180 185 187 181 178 182 180 177 173 171 171 177 176 172 164 161 167 164 185 207 197 173 152 141 141 161 191 104 54 69 60 48 57 65 62 60 57 64 55 50 94 111 124 130 135 150 159 163 172 179 184 184 178 178 177 173 171 174 177 178 176 169 165 161 163 161 180 205 201 183 171 177 178 180 194 101 55 65 60 47 55 65 63 59 58 63 57 52 90 105 117 122 130 143 153 157 163 171 174 182 183 182 178 174 175 175 177 175 172 163 161 159 157 162 178 200 201 188 181 172 177 187 198 98 57 63 61 48 52 61 64 63 60 65 57 51 95 104 113 117 127 136 145 152 156 162 162 165 173 177 182 183 183 180 181 177 165 153 154 152 153 160 174 193 200 188 185 180 182 192 196 101 60 60 56 49 50 60 66 64 62 64 59 53 99 104 111 112 118 132 142 147 155 158 160 159 162 171 176 184 186 183 180 169 154 141 135 145 155 164 180 196 205 188 189 188 189 193 192 98 61 64 55 49 49 60 66 63 64 63 60 57 99 105 108 112 113 125 139 143 150 155 158 164 169 174 176 182 183 182 177 163 141 133 147 151 164 170 185 200 210 194 188 192 186 185 180 88 64 67 60 46 50 59 65 64 64 64 59 56 101 103 108 109 109 118 134 143 143 147 155 159 166 171 174 177 179 178 172 153 129 143 161 159 166 171 186 197 207 203 185 191 183 179 164 73 67 67 66 48 50 57 65 65 63 64 61 57 103 108 114 112 110 115 128 138 144 145 152 156 159 164 168 172 172 169 161 139 125 147 156 161 162 164 180 188 188 197 185 187 181 180 137 65 70 68 70 52 47 53 62 65 63 65 61 58 105 109 112 120 113 112 122 134 141 149 150 153 155 159 164 167 167 162 152 134 115 126 119 106 99 109 141 158 150 155 175 184 176 175 106 63 70 68 68 50 46 50 57 63 63 64 61 59 107 110 110 117 117 114 117 128 137 147 148 150 153 156 161 162 163 156 150 148 105 70 45 26 25 47 73 74 79 128 177 180 173 157 77 66 68 67 68 52 49 51 56 62 62 62 62 60 101 107 108 114 115 114 117 125 134 143 148 149 152 154 158 160 158 155 160 158 132 88 73 73 64 52 66 91 138 160 174 173 171 125 64 67 63 64 68 54 50 49 54 60 60 60 62 60 98 105 105 109 111 114 117 125 131 139 145 148 153 153 156 157 156 161 168 165 153 139 122 115 105 89 103 150 182 161 171 173 162 89 64 64 62 64 69 56 48 49 56 58 60 59 62 60 89 99 108 106 109 111 119 120 125 134 140 146 152 153 153 153 156 159 162 160 150 136 129 133 133 122 133 148 178 168 168 175 132 61 67 66 65 63 69 57 47 50 55 58 59 61 62 60 89 96 105 107 105 107 117 120 123 124 133 141 149 153 151 145 151 145 139 140 138 128 126 124 129 125 136 142 164 172 168 168 87 58 67 63 62 61 69 57 39 44 55 56 59 63 62 62 84 91 92 98 102 103 113 119 121 118 128 138 146 151 147 142 140 128 127 128 129 126 135 140 135 130 143 146 149 166 174 131 62 65 62 59 67 63 68 83 89 65 42 52 60 60 62 63 77 84 84 91 99 101 107 112 117 118 122 134 145 149 144 134 127 127 129 130 134 125 126 132 152 153 151 150 151 165 171 87 59 65 64 61 58 86 122 138 208 207 154 71 52 56 55 56 69 77 83 85 93 91 102 112 116 118 119 127 140 144 142 131 112 95 85 75 62 58 56 59 87 88 83 127 142 165 149 62 65 62 59 77 113 192 156 84 185 196 197 168 81 70 75 69 58 65 73 82 81 79 95 107 114 116 116 123 136 142 136 132 131 102 71 58 49 41 33 41 36 49 60 99 136 168 111 53 63 71 138 186 203 195 146 87 91 72 79 95 103 82 61 74 55 57 68 75 76 77 84 96 106 110 111 121 130 138 136 142 153 159 152 152 154 145 133 136 147 158 156 155 147 158 74 57 60 123 181 174 126 89 72 67 57 43 55 67 76 86 60 45 51 45 52 68 75 73 77 88 96 100 104 113 115 121 134 146 149 146 149 148 155 168 174 179 178 169 169 174 161 131 44 47 82 150 168 136 104 75 66 80 67 58 48 54 68 88 121 102 51 45 38 53 66 65 70 86 92 96 102 103 109 116 130 136 136 133 136 138 137 135 128 130 143 158 165 164 147 87 62 74 123 160 170 100 99 107 79 71 86 75 57 45 49 65 122 130 43 48 40 39 55 61 59 71 82 87 88 93 105 118 123 128 130 124 111 98 94 88 67 55 84 129 147 148 105 48 82 142 161 164 164 76 72 85 100 88 72 90 84 54 48 54 73 100 73 36 44 31 37 53 51 55 67 74 77 87 97 108 118 125 132 122 106 86 80 82 75 73 83 110 129 126 46 22 130 177 196 193 166 72 52 54 73 100 92 75 99 95 65 68 61 63 91 65 42 37 22 28 39 44 57 68 74 83 92 101 119 131 143 141 134 136 140 139 134 136 139 138 136 85 23 114 202 198 199 180 173 98 36 86 130 150 137 99 77 101 99 72 56 43 77 82 79 70 56 28 20 25 36 50 63 73 83 98 111 124 139 156 160 159 169 168 165 163 159 149 114 43 26 133 183 192 177 152 137 130 125 139 173 195 186 137 101 88 101 105 70 46 77 72 84 87 87 81 64 37 20 31 40 46 65 88 108 110 125 149 157 153 162 164 158 159 154 140 78 21 11 61 144 168 173 157 138 150 148 132 159 182 183 136 106 116 95 106 109 82                                                                                                                                                                                                                                                                                                                                                                                                                                                                                                                                                                                                                                                                    12\n",
              "63 11 1 2 2 24 48 17 0 15 48 30 30 53 61 86 92 142 109 120 97 120 153 79 113 132 120 97 53 36 36 32 19 31 30 20 15 5 2 1 1 1 0 21 51 60 60 59 27 1 1 0 9 29 27 3 5 48 65 26 62 73 110 99 142 150 132 138 124 146 162 100 123 147 145 139 103 83 80 60 42 24 25 15 17 10 2 0 0 1 1 14 53 63 62 61 16 1 2 2 12 14 4 3 39 121 70 31 87 90 98 126 169 161 152 132 152 161 179 120 131 159 149 137 138 123 122 123 101 61 66 53 50 57 30 7 3 1 2 3 42 63 64 61 2 0 3 6 15 15 0 37 63 103 79 54 111 81 115 160 170 168 152 142 164 170 190 132 141 163 157 149 145 137 147 147 136 113 119 104 93 92 78 36 15 2 1 0 24 64 65 63 2 8 5 14 24 25 13 78 107 114 74 78 127 88 146 155 163 153 149 157 168 174 186 127 159 171 165 166 164 155 161 158 148 129 132 134 121 105 94 57 17 8 2 0 17 62 69 64 20 6 7 10 19 52 37 97 128 137 77 87 142 68 125 133 154 158 172 174 177 184 188 140 180 176 170 172 172 165 164 163 154 138 138 137 130 120 97 64 29 6 3 0 15 64 70 66 11 1 5 3 2 32 59 117 133 134 132 153 155 79 126 172 178 172 176 174 182 185 172 139 184 178 177 179 177 169 166 163 159 154 147 141 132 120 102 71 43 5 2 0 8 67 73 69 7 3 2 12 9 10 41 126 119 127 154 159 173 114 127 186 180 182 189 190 188 187 160 157 197 188 185 188 172 163 167 165 159 157 152 142 132 124 98 85 49 8 2 2 0 52 77 71 19 2 3 8 10 22 47 97 123 156 157 160 171 152 118 163 181 182 186 190 194 197 191 188 203 194 188 184 174 175 176 180 174 169 166 153 135 125 101 96 70 18 0 3 0 36 76 73 17 2 3 3 8 22 60 112 130 155 157 167 176 175 168 172 187 187 188 195 197 197 200 199 198 198 195 189 186 181 146 117 121 113 90 89 121 136 97 96 95 42 1 3 0 50 76 74 20 0 3 1 10 34 80 121 138 150 164 168 166 166 163 176 188 192 193 196 201 198 199 203 202 202 203 197 175 106 40 36 35 13 14 26 51 122 103 92 104 69 3 2 0 53 81 76 23 0 2 1 11 44 104 140 135 146 161 133 87 59 85 91 96 143 177 197 201 195 201 206 201 201 194 156 93 68 112 125 108 97 104 96 65 62 87 91 100 82 14 0 0 52 85 78 43 0 1 1 12 57 125 140 131 156 139 69 54 41 59 85 101 60 95 156 193 192 197 198 196 193 186 156 143 149 159 159 169 171 169 156 146 120 78 73 102 90 28 0 0 55 87 80 45 0 1 3 13 79 145 141 129 141 85 81 140 153 150 150 174 143 114 124 168 188 188 186 187 192 185 176 179 176 169 175 180 175 176 165 156 156 119 57 102 95 42 0 4 68 87 82 36 1 3 2 18 103 148 141 124 104 129 181 185 187 198 201 185 177 171 162 161 180 185 180 182 191 189 181 175 165 161 168 180 185 179 174 161 150 143 90 93 102 56 1 9 78 88 84 34 1 2 1 26 119 147 141 112 128 181 183 185 189 202 203 190 172 174 177 175 178 180 179 182 188 185 178 161 149 141 132 131 129 137 150 151 146 139 98 93 112 54 1 16 86 90 88 52 2 1 1 33 126 149 136 108 165 184 183 185 187 178 158 153 156 165 169 175 180 181 179 186 187 178 160 144 134 107 93 77 64 63 69 111 131 125 99 98 116 73 4 21 96 94 91 76 9 2 2 36 127 150 136 125 170 178 180 160 116 85 76 80 96 133 163 168 179 184 180 188 186 162 145 136 109 105 140 155 154 111 50 80 127 127 111 109 119 93 14 27 90 98 93 94 35 2 5 38 127 148 140 136 169 178 159 113 78 103 143 147 130 95 138 167 176 182 182 196 179 150 143 126 102 147 148 121 153 213 135 55 102 129 128 119 119 98 24 19 99 103 95 118 97 7 5 44 128 152 145 148 174 177 148 88 117 196 125 101 149 170 123 162 177 179 185 202 171 153 151 129 139 208 71 14 38 166 191 124 90 127 143 129 120 105 26 53 137 111 98 129 132 49 9 47 132 156 153 160 175 176 130 103 203 173 36 19 85 208 157 164 181 177 183 195 170 159 163 160 175 197 122 57 89 166 145 101 111 146 158 139 122 104 40 96 157 109 99 139 127 80 18 44 129 158 161 166 176 161 125 149 188 194 118 84 156 191 172 178 182 172 173 189 174 155 164 166 173 169 169 152 141 129 120 116 137 172 170 146 128 103 49 116 156 58 50 152 173 138 42 34 127 157 165 174 179 165 147 134 142 158 161 157 167 176 175 179 180 164 170 184 178 153 158 165 178 170 150 143 142 147 146 138 157 182 174 154 130 100 65 146 151 36 18 161 188 178 91 33 127 158 167 179 187 186 175 166 164 147 148 154 152 166 174 178 174 160 169 180 174 154 151 164 175 169 162 165 166 166 161 159 177 185 173 155 129 91 85 176 147 34 19 147 183 196 129 38 124 157 168 180 190 197 191 176 178 180 181 172 169 170 181 177 173 159 170 188 179 152 147 156 170 179 168 168 171 170 168 173 184 184 171 153 129 79 83 171 148 36 19 131 184 199 165 45 110 154 166 179 189 200 199 187 179 180 183 175 170 177 182 174 175 160 170 193 185 153 143 151 166 183 180 172 173 176 179 182 185 183 168 151 123 73 108 171 149 34 23 115 166 200 200 110 91 147 161 177 190 195 191 185 181 179 175 171 172 178 175 169 169 156 165 188 188 161 141 149 166 185 186 183 183 184 184 183 183 179 164 149 109 69 114 170 126 28 25 111 145 189 194 150 105 137 151 173 182 189 195 194 190 187 186 175 174 176 177 174 166 158 172 181 188 167 148 139 165 184 186 183 184 185 186 183 178 172 159 139 82 71 124 153 68 31 28 112 113 177 185 170 128 131 139 163 177 193 199 199 194 189 181 174 194 171 175 172 157 163 177 182 187 175 159 139 158 186 186 184 184 182 183 179 171 163 150 117 57 76 164 136 27 32 29 102 57 126 190 175 151 133 131 151 173 190 194 196 193 176 162 181 194 159 165 162 151 170 174 188 192 181 163 157 156 187 187 185 182 179 178 170 165 154 133 91 53 30 73 46 14 33 28 81 59 44 155 176 179 145 130 142 167 184 192 187 164 136 164 183 180 146 158 157 166 177 182 204 201 182 168 165 151 178 190 183 177 169 160 158 157 140 111 73 51 9 0 0 24 30 21 73 74 28 72 182 164 110 133 138 151 181 184 152 158 147 158 172 169 130 155 165 172 174 186 197 194 183 142 104 111 162 188 180 173 164 164 165 153 106 82 68 44 4 3 7 28 33 32 73 80 51 8 41 40 55 129 132 140 163 157 153 171 166 157 164 147 118 170 154 109 52 126 181 182 148 64 98 111 164 181 178 168 171 165 143 149 145 146 78 31 1 0 11 38 36 32 61 80 69 22 0 12 28 100 139 142 141 132 158 171 181 175 162 132 139 187 141 161 122 57 128 153 83 104 163 180 177 172 167 165 168 156 128 137 188 200 111 17 0 3 21 42 38 43 60 74 77 48 17 20 18 55 136 144 136 133 153 179 198 202 176 162 161 156 162 160 194 162 112 84 98 155 162 170 167 171 171 171 175 160 126 134 185 194 104 5 8 23 35 41 43 33 63 64 70 65 53 37 20 26 115 145 140 146 148 172 194 182 164 173 169 162 164 163 158 152 146 148 172 174 164 168 168 161 168 173 170 157 103 144 183 181 96 3 29 36 41 38 45 13 60 57 63 76 83 78 51 21 85 129 146 156 152 125 150 169 168 167 165 172 180 185 183 164 144 158 178 187 166 171 168 153 154 167 159 94 38 142 176 177 119 14 47 47 42 43 37 2 76 65 62 77 90 81 63 27 54 128 162 160 164 135 59 81 133 151 158 170 180 194 191 176 165 156 137 158 168 165 171 142 143 145 72 61 112 142 167 170 135 79 59 51 39 45 11 0 84 80 73 73 84 65 52 32 59 162 170 164 168 157 88 18 27 68 96 135 174 186 190 185 190 175 161 143 157 159 150 144 117 71 111 176 159 142 169 165 153 143 89 39 56 22 0 13 74 78 84 75 71 68 53 49 93 174 171 171 163 157 174 122 53 89 106 113 144 159 165 182 190 185 181 161 154 150 130 104 83 143 170 168 136 88 156 158 154 150 110 39 60 13 20 37 37 31 25 13 10 78 62 59 114 177 175 172 158 180 189 195 179 175 189 192 153 136 130 153 188 196 192 184 164 168 104 93 163 158 136 149 58 58 122 138 147 138 84 44 55 8 44 41 0 0 0 0 0 52 71 47 111 183 183 174 162 175 177 185 188 177 166 175 185 169 137 125 176 200 202 199 173 170 161 174 164 151 131 72 64 154 164 153 149 121 55 57 34 11 53 44 2 0 5 21 13 62 83 53 95 189 182 160 141 168 175 181 179 171 161 160 165 176 174 130 146 190 204 200 178 178 171 159 153 157 88 76 153 173 185 174 157 108 51 57 5 18 50 47 44 33 43 70 46 67 77 64 87 163 155 151 119 127 176 172 165 154 164 162 156 156 155 130 94 143 181 182 179 190 180 172 159 90 46 133 150 186 184 176 160 84 41 19 0 19 55 52 72 65 67 78 56 42 79 67 81 157 148 128 135 83 124 173 160 162 168 162 163 162 158 165 151 96 119 170 195 196 193 184 177 92 83 103 155 190 180 175 150 55 13 0 13 35 59 56 77 65 64 84 70 35 55 70 132 165 158 155 135 130 75 108 170 186 184 185 185 190 192 186 196 177 88 132 192 199 201 197 182 173 102 108 179 182 181 174 137 40 0 3 19 35 56 59 80 67 63 90 79 53 26 69 134 136 167 184 169 141 124 78 89 167 184 180 183 186 187 190 178 172 150 139 163 190 196 196 194 184 142 149 172 173 174 155 140 59 0 11 19 37 61 61 88 70 61 94 85 62 40 42 96 136 158 164 190 167 146 134 94 77 142 161 171 177 169 184 179 149 157 173 172 183 185 191 199 193 174 123 140 157 152 139 147 56 0 23 29 35 58 64                                                                                                                                                                                                                                                                                                                                                                                                                                                                                                                                                                                                                                                                            12\n",
              "222 222 222 221 219 219 220 222 226 231 219 196 131 96 72 59 64 40 31 70 78 74 67 52 40 34 35 36 25 23 40 44 49 52 41 38 45 52 50 43 38 51 47 31 31 23 25 26 222 222 222 221 220 220 223 227 231 223 215 133 79 115 108 75 82 36 53 70 70 75 74 63 54 51 49 47 34 45 62 55 52 53 52 59 61 58 57 53 38 46 43 30 28 28 20 15 221 222 222 222 222 224 229 232 222 226 211 107 85 124 121 76 70 48 54 61 81 101 103 92 78 70 67 65 54 74 81 83 64 64 64 68 74 63 54 40 35 47 51 24 25 14 18 19 223 224 225 228 230 233 229 218 220 237 165 131 122 117 117 104 84 84 88 110 126 132 128 113 103 86 81 81 65 89 100 95 63 75 74 77 64 51 58 44 39 50 37 22 22 9 11 19 229 231 232 232 228 219 215 222 241 189 150 150 144 149 144 127 124 121 138 135 143 146 133 114 114 90 88 89 74 88 103 85 70 84 79 79 61 59 44 43 40 42 29 25 10 13 12 15 223 222 219 215 215 229 247 246 227 158 158 154 148 149 148 147 139 146 149 147 156 153 138 126 126 110 85 111 80 82 91 72 83 86 88 82 62 60 40 36 41 39 22 18 4 8 13 13 214 219 225 230 235 249 253 254 204 146 157 152 145 148 152 151 154 154 150 149 154 157 144 140 133 129 107 99 91 87 94 93 91 89 95 72 46 49 39 35 34 34 30 26 23 20 21 7 214 227 244 241 237 236 243 255 187 139 154 152 148 151 152 153 153 150 148 147 149 153 147 141 134 124 126 107 105 94 101 102 81 90 96 60 41 53 40 30 36 42 33 32 41 33 20 22 226 236 247 237 228 229 233 245 182 137 150 151 151 150 151 148 147 146 146 147 142 140 142 133 129 118 115 119 117 87 102 103 79 97 90 51 39 45 34 26 44 37 27 29 25 29 24 20 230 231 228 216 212 216 215 221 181 137 149 152 149 146 146 143 143 142 141 139 137 135 133 125 119 119 118 114 118 93 108 107 91 96 89 53 45 28 24 32 32 26 27 12 20 33 30 12 223 215 200 199 205 212 209 215 173 140 150 153 147 145 142 139 141 140 139 135 131 127 124 123 121 120 119 117 116 105 107 109 100 97 87 64 55 39 25 32 15 25 16 1 14 27 27 25 213 204 192 195 206 208 204 211 185 142 149 152 145 141 140 138 138 139 136 132 129 125 121 123 121 120 119 115 114 111 108 109 104 97 77 74 71 53 38 31 22 25 18 8 12 11 12 22 203 205 198 197 197 193 195 198 195 150 146 148 144 137 134 134 138 136 132 130 127 125 122 123 123 122 120 116 115 109 110 111 104 94 69 73 68 65 62 44 36 25 18 18 16 15 15 25 197 200 197 201 195 192 206 206 198 156 145 142 140 136 133 132 135 133 130 125 125 123 124 124 125 122 120 117 115 111 111 110 102 92 70 72 73 80 73 54 37 26 18 33 41 40 38 29 179 183 188 195 185 175 184 194 188 125 134 139 134 139 135 135 134 130 127 125 125 126 126 127 126 126 124 121 117 115 114 113 105 92 82 79 81 80 80 58 45 30 27 38 45 41 31 27 157 165 164 159 157 151 152 161 160 93 81 129 136 132 130 130 130 128 125 127 128 133 135 136 136 135 133 127 124 122 116 119 117 103 87 83 77 82 89 56 48 33 31 28 34 38 28 29 141 143 131 126 134 139 138 138 136 139 101 95 135 129 128 117 113 108 106 107 116 127 136 143 145 143 139 135 133 131 123 124 124 120 102 91 79 78 88 61 44 31 34 32 31 31 26 27 139 134 123 124 125 124 129 131 140 153 141 109 118 127 126 109 98 80 68 69 70 76 95 113 134 143 145 141 137 136 131 132 130 124 119 102 88 79 76 72 54 30 35 34 23 28 31 26 145 147 141 137 137 124 131 129 125 117 80 93 112 124 125 123 114 106 104 115 116 103 97 92 88 96 109 130 141 137 137 137 135 129 122 115 103 86 74 72 56 38 33 35 34 37 38 33 145 154 155 155 166 144 141 143 106 94 76 35 82 129 131 136 126 112 105 109 128 132 126 124 116 101 86 90 120 135 138 141 139 133 128 120 108 93 79 71 54 40 38 44 41 37 30 30 144 153 161 164 172 155 147 150 135 133 122 34 76 138 138 144 137 120 93 49 55 89 106 110 119 127 122 113 107 126 139 143 144 138 132 122 111 100 87 71 50 40 47 52 36 32 32 28 150 147 163 174 173 162 152 162 156 143 126 93 106 144 159 158 153 143 117 50 30 22 51 93 90 97 112 121 124 129 139 144 146 143 138 125 114 104 87 73 41 49 59 61 74 78 75 59 157 145 150 165 177 172 156 160 162 148 149 119 119 166 175 175 172 162 139 107 79 45 92 93 73 99 112 118 128 137 145 151 149 146 138 127 113 101 91 78 56 62 80 97 85 75 69 57 160 147 144 157 169 165 153 149 155 150 157 137 156 202 202 189 184 179 165 125 108 112 113 115 119 136 146 146 150 152 152 154 151 144 138 126 113 107 97 85 84 81 90 82 59 55 57 52 158 149 141 147 151 145 143 139 148 152 161 166 204 220 204 192 186 180 180 160 129 121 124 130 143 156 168 174 172 164 159 156 151 143 135 125 115 107 99 90 93 92 86 59 70 101 81 62 137 136 133 135 136 137 134 126 137 150 172 184 203 200 189 171 171 178 180 180 165 154 154 158 167 174 178 175 171 167 162 158 150 140 133 125 115 107 100 92 97 93 58 63 56 75 99 80 124 125 123 125 129 136 135 126 132 164 182 179 175 178 174 166 160 161 175 185 183 176 173 174 180 183 177 170 169 165 159 156 147 136 127 120 114 107 98 97 98 106 67 59 78 94 93 109 128 129 120 122 135 139 135 131 136 177 178 157 147 156 174 183 166 148 171 185 190 187 184 181 179 173 170 168 166 160 159 156 142 134 124 118 112 104 97 97 95 93 78 82 87 103 98 112 134 126 121 130 144 147 135 135 146 178 176 163 131 116 100 131 132 134 172 184 192 192 192 188 182 176 170 168 162 157 159 151 135 129 122 115 109 99 96 99 101 81 92 114 110 104 112 108 129 130 126 129 139 147 144 140 145 177 177 180 148 131 127 120 118 149 178 180 189 192 192 190 186 181 174 167 162 155 148 139 132 126 117 111 104 95 98 98 117 143 149 139 123 117 119 110 128 141 131 130 142 141 149 150 153 170 174 171 157 157 162 167 175 180 178 180 186 187 186 184 177 173 167 164 158 159 154 136 129 121 114 108 99 94 99 81 113 148 146 144 134 132 117 64 127 132 125 136 154 142 137 149 162 167 165 158 162 164 159 169 179 178 179 178 180 179 180 176 169 162 159 158 154 155 145 134 124 118 111 104 96 92 91 67 96 142 146 145 130 103 70 67 132 134 125 138 152 137 130 146 159 157 148 139 150 150 153 157 161 168 176 173 168 171 171 167 162 155 154 152 150 146 136 130 123 117 109 101 93 90 84 77 74 91 107 102 91 79 73 90 131 130 129 147 154 128 126 146 156 157 146 114 113 90 96 117 130 146 161 165 160 159 159 158 154 150 149 145 141 138 131 124 119 113 104 96 91 86 85 89 83 75 72 79 84 83 74 107 130 123 128 145 147 124 127 141 148 157 158 142 164 151 144 128 103 94 128 151 153 149 151 150 147 145 145 141 138 133 126 119 112 107 100 92 89 87 90 96 91 82 82 81 66 83 76 138 130 120 122 127 125 120 127 132 140 148 162 152 150 154 152 135 114 98 96 125 143 146 149 146 144 141 138 136 133 129 123 115 109 102 94 89 87 90 95 99 92 84 87 78 66 77 77 86 140 135 129 116 107 110 118 113 118 129 148 138 112 113 109 114 123 126 133 122 132 143 147 145 140 134 133 131 126 122 115 110 102 95 90 86 86 93 99 97 89 88 89 81 51 58 86 85 197 191 189 175 156 126 110 102 103 116 130 134 114 120 122 121 112 123 132 134 127 133 139 138 135 130 127 124 119 114 114 100 94 88 84 83 89 97 100 93 86 82 86 82 47 50 85 86 168 163 161 163 172 176 167 150 134 117 111 109 100 101 107 103 109 114 121 130 129 128 127 127 124 120 116 113 108 102 100 92 88 81 81 86 96 102 98 87 80 78 88 80 46 53 74 78 162 158 151 148 141 144 151 162 174 180 164 142 152 150 118 107 113 124 133 136 134 129 121 116 112 109 104 102 97 92 88 84 78 77 85 97 103 103 92 79 78 80 97 71 51 82 95 84 157 154 148 141 139 136 130 129 134 142 157 178 212 231 161 112 127 133 140 142 133 123 116 109 103 100 98 94 87 81 75 71 73 85 99 107 108 102 89 77 81 87 106 78 61 85 106 77 150 147 146 144 136 134 130 125 122 120 129 134 180 202 190 135 122 131 136 134 128 121 110 102 101 97 89 84 80 75 76 83 91 103 116 118 115 101 84 80 88 91 102 111 59 71 119 94 144 142 143 141 137 134 129 127 122 119 117 108 182 198 193 166 145 131 124 125 118 105 95 89 83 75 69 71 84 94 101 106 106 116 129 125 110 90 83 92 95 97 109 130 129 82 117 97 139 136 138 139 141 136 132 132 129 125 120 123 193 200 190 161 177 168 128 110 95 59 63 66 64 72 80 89 90 96 99 96 102 122 126 114 94 83 92 101 105 114 115 114 146 160 93 69 129 130 132 135 140 142 138 141 141 141 136 139 201 202 190 160 171 167 137 106 89 72 57 60 69 81 88 96 101 104 104 94 105 121 114 96 85 94 105 116 121 118 117 118 122 145 172 129 120 120 125 129 138 146 149 150 152 155 148 151 205 204 192 162 168 159 137 117 100 86 76 68 73 84 92 98 103 102 100 103 117 119 103 89 94 109 117 124 123 122 121 121 125 124 140 175 113 112 113 122 140 149 157 160 161 162 155 159 210 208 198 165 169 161 142 127 115 105 98 95 96 96 98 104 106 104 105 116 127 117 102 98 111 123 122 127 130 126 123 126 127 129 131 139 104 105 102 112 133 148 160 164 167 165 157 166 212 209 202 167 172 165 149 137 131 123 118 116 117 114 112 111 111 112 117 128 134 120 109 114 125 131 133 133 128 127 129 131 136 136 136 142                                                                                                                                                                                                                                                                                                                                                                                                                                                           12\n",
              "31 33 32 39 34 32 37 43 46 47 49 52 55 56 59 59 59 59 60 64 68 66 61 57 58 56 56 55 47 46 45 44 42 41 42 43 44 42 39 39 37 32 30 29 30 28 45 107 31 31 31 31 27 26 30 35 36 39 41 48 52 55 57 57 58 62 60 61 65 65 59 57 56 54 55 53 51 53 53 49 49 49 47 44 44 40 36 34 31 29 29 35 53 91 135 153 38 36 36 31 30 31 29 28 28 30 33 35 38 43 46 47 50 55 55 58 66 69 67 66 67 68 58 49 50 53 49 45 45 44 43 40 36 33 32 32 43 58 77 105 139 157 153 149 42 41 42 42 42 42 40 39 37 37 37 40 41 45 47 50 54 55 59 61 66 67 64 63 62 61 55 53 54 54 51 44 37 31 32 32 42 49 62 92 99 113 127 141 150 149 150 151 43 42 41 44 43 43 44 44 45 47 44 44 45 46 48 52 54 53 54 56 58 60 60 58 57 54 50 44 41 34 33 38 46 61 76 95 112 95 86 126 124 132 142 148 151 151 150 150 40 40 39 40 41 40 41 43 42 43 41 44 43 46 45 45 45 43 45 43 41 38 35 34 32 34 38 48 67 91 110 119 131 131 133 133 121 93 89 120 140 149 151 152 152 151 150 150 40 40 40 39 40 41 41 43 40 39 37 34 31 32 31 33 33 37 41 48 54 67 80 91 106 126 135 145 154 169 168 151 144 136 132 131 127 116 98 122 151 152 151 152 151 151 150 150 38 39 40 41 40 39 36 34 34 37 45 54 62 72 82 96 115 129 143 152 162 176 188 186 184 181 169 163 152 153 154 152 148 150 140 135 137 132 102 128 155 152 153 152 152 151 150 150 41 39 37 34 34 41 58 90 120 135 139 149 148 153 160 166 179 185 190 187 183 183 185 189 178 166 161 160 156 150 166 159 154 152 149 142 141 127 106 130 156 152 152 152 152 152 151 151 36 40 52 73 102 122 141 169 180 170 161 160 155 149 158 171 172 173 175 178 186 185 186 194 187 178 164 151 160 147 167 166 158 154 151 146 132 125 113 130 155 153 153 152 152 152 151 151 87 95 125 164 166 163 162 175 169 161 160 158 158 157 160 170 167 166 175 184 190 195 196 190 182 180 171 157 157 155 156 169 161 162 158 136 120 124 113 135 155 153 153 153 151 152 152 151 188 191 147 163 175 172 174 180 168 161 161 163 163 164 158 163 165 177 175 176 178 188 196 193 183 178 170 166 158 162 157 168 156 162 137 118 123 130 107 135 155 152 153 153 152 152 151 151 172 181 163 140 182 189 182 183 168 162 162 159 163 158 163 168 176 175 176 174 170 181 180 182 178 172 169 167 158 164 161 155 145 133 123 130 133 132 119 128 154 154 153 153 152 152 151 151 179 174 190 161 162 185 186 175 175 163 163 157 158 158 161 175 177 178 170 166 167 168 148 136 131 145 172 170 159 164 160 145 113 122 96 139 129 121 129 139 144 155 153 153 152 152 151 151 179 188 191 165 183 179 167 174 177 160 159 167 160 153 166 169 172 174 172 159 159 144 142 148 139 130 145 165 170 176 162 141 136 100 93 148 141 133 132 144 137 155 153 153 153 152 152 151 170 169 182 159 169 200 170 154 172 171 164 169 163 154 161 164 155 148 102 96 124 164 138 137 142 151 151 159 171 178 154 129 139 146 146 144 142 147 136 146 138 147 154 153 152 152 152 151 208 160 166 169 146 183 192 172 153 155 170 170 168 174 167 171 169 158 110 85 131 186 151 142 153 157 154 164 167 175 162 144 152 144 143 147 160 140 126 132 148 141 154 153 152 152 152 152 211 176 174 178 131 154 179 180 181 152 146 174 185 184 191 186 189 180 178 168 169 166 155 146 150 152 154 161 169 175 162 125 142 150 151 148 134 131 114 106 115 116 154 152 152 152 152 152 197 184 177 175 136 135 154 169 181 172 158 141 164 189 198 185 186 189 183 182 181 178 171 152 143 145 150 164 171 171 158 130 124 133 146 155 139 145 125 105 92 87 142 155 152 152 152 152 174 174 164 172 138 133 137 151 168 165 165 170 156 155 186 191 179 182 182 180 173 164 148 136 142 147 138 139 176 176 162 132 107 135 127 154 146 139 123 89 88 93 98 151 153 152 152 151 174 187 169 156 134 131 133 138 152 161 152 163 170 172 161 169 186 183 170 169 166 159 148 175 192 190 179 153 169 161 161 155 107 116 137 146 136 132 115 84 87 101 127 151 153 152 152 151 175 183 190 155 129 132 140 134 142 158 156 156 163 175 188 171 155 178 184 184 169 173 184 192 192 179 166 163 139 138 162 161 134 108 144 141 126 120 96 79 91 129 158 153 152 153 152 152 172 187 176 162 135 131 143 140 137 147 154 151 150 164 181 189 176 151 154 170 147 181 189 189 183 160 159 152 145 165 166 169 148 109 125 142 126 105 79 89 136 156 152 153 154 153 152 152 117 170 161 188 142 127 141 145 144 139 151 148 147 160 165 175 174 167 143 101 149 200 188 183 164 146 150 141 155 162 156 160 152 124 126 129 111 87 108 145 155 153 154 153 153 152 152 152 86 110 146 185 140 124 142 148 152 148 156 152 153 160 158 164 171 164 172 154 143 191 178 166 147 133 132 151 152 153 155 170 166 138 138 159 125 93 145 158 153 154 154 153 153 152 152 152 87 95 122 124 119 122 138 149 154 151 153 148 150 154 167 153 157 158 160 160 146 149 148 135 140 131 151 160 155 157 180 195 172 152 130 151 118 104 150 154 154 153 153 153 152 152 152 151 96 89 131 119 100 117 133 146 149 153 152 141 145 149 168 162 150 152 156 160 166 157 137 148 177 169 157 163 152 155 176 179 165 136 133 149 108 103 155 154 154 153 153 153 153 153 152 151 102 87 102 131 93 112 131 142 146 154 152 149 148 144 159 169 166 152 153 159 161 158 152 171 177 174 176 177 163 139 146 150 130 120 138 155 107 111 157 153 153 153 153 153 153 152 152 152 99 94 85 121 105 101 128 137 144 149 148 154 152 147 154 167 170 156 157 161 163 150 162 176 182 180 176 172 164 152 138 130 122 123 135 159 114 122 158 153 153 153 153 153 152 152 151 152 101 96 91 96 112 99 124 140 144 148 147 150 152 149 152 162 164 160 161 165 160 158 175 169 176 177 176 177 169 159 158 148 137 119 130 165 129 127 158 153 153 153 153 153 153 152 152 151 103 98 95 91 101 98 120 141 150 145 145 151 151 152 149 156 162 159 165 172 157 168 178 168 171 176 168 160 160 153 150 140 131 114 131 170 143 127 156 153 153 153 152 153 153 153 152 150 104 99 94 100 108 90 115 138 144 140 138 147 147 144 150 153 162 157 167 170 162 171 171 161 151 140 143 151 144 131 119 107 105 108 134 171 154 130 160 153 153 153 153 152 152 153 151 151 103 101 99 101 128 121 100 133 138 143 133 138 142 135 147 154 160 161 168 167 168 177 167 152 126 121 126 141 133 131 153 105 97 115 137 171 165 107 124 157 156 152 152 152 152 152 152 151 101 108 106 99 124 201 120 114 145 149 136 130 130 128 140 156 158 158 169 157 165 181 149 138 152 149 129 119 114 116 112 96 115 122 139 170 167 92 56 93 139 158 152 151 152 152 151 150 98 107 109 105 106 216 215 113 130 145 137 125 127 127 136 159 154 157 182 169 169 165 151 144 135 133 128 126 131 127 122 123 130 123 130 178 164 91 58 57 65 112 153 154 150 152 152 151 93 105 115 113 106 194 255 201 118 130 136 127 118 124 132 151 154 158 181 173 162 160 160 162 162 163 163 162 162 153 143 136 132 127 121 165 149 87 60 60 57 57 90 146 154 150 151 151 87 100 115 115 105 182 251 255 200 121 125 132 122 115 129 146 147 160 175 170 174 166 163 160 162 166 166 162 152 150 148 141 139 139 121 137 136 87 78 69 57 61 57 81 142 156 150 150 95 90 105 117 108 148 245 245 255 209 130 118 127 114 123 144 145 154 166 160 168 161 162 167 163 161 163 159 153 149 144 142 146 150 123 125 106 90 88 94 73 58 60 58 78 128 152 154 100 90 96 113 116 108 215 255 245 255 225 142 116 117 118 143 142 143 160 162 163 169 168 162 169 163 157 162 161 159 151 136 142 141 118 113 90 93 88 96 105 75 57 58 64 62 82 135 104 100 94 103 119 108 140 250 252 248 255 243 166 117 111 132 153 137 164 177 163 164 166 167 171 161 169 175 170 163 156 147 138 132 108 93 89 88 93 85 108 88 62 54 56 66 55 59 107 109 98 90 118 120 104 188 255 250 254 255 255 180 109 116 141 143 135 150 150 153 162 170 169 168 174 173 172 164 149 148 137 123 94 91 96 84 93 84 97 97 69 56 50 63 64 56 108 107 107 93 103 121 113 116 224 255 237 211 176 151 116 108 119 128 126 117 125 141 157 165 161 163 170 169 162 156 148 141 134 111 85 95 96 88 89 91 89 104 77 57 50 58 62 57 114 112 110 99 92 115 117 108 135 240 207 117 100 80 104 110 117 120 113 118 112 123 144 160 162 155 159 159 152 146 137 138 124 88 85 96 101 95 85 91 87 98 95 61 51 51 58 57 114 114 109 106 95 108 126 115 99 159 255 227 187 140 124 101 78 110 125 123 123 115 117 131 150 151 141 133 135 128 115 107 97 92 84 86 96 101 86 90 90 90 98 74 51 50 57 56 119 121 121 115 100 103 122 117 114 101 177 255 246 244 244 230 202 73 78 110 115 117 103 83 93 105 131 147 95 53 47 83 97 96 88 84 86 98 90 89 89 87 93 82 56 48 53 53 115 114 115 118 103 101 118 118 116 114 101 191 253 230 225 244 196 51 42 49 53 78 93 91 78 99 126 204 150 22 33 77 101 97 94 90 89 96 98 88 90 92 90 91 64 48 52 49 173 141 118 120 112 102 111 122 116 114 102 97 198 247 219 227 190 56 46 42 44 49 75 93 72 53 86 85 129 40 23 69 97 101 99 97 84 90 94 89 91 94 89 103 74 48 50 46 216 191 134 122 114 100 107 125 121 116 110 96 111 220 226 223 231 73 42 42 46 48 53 72 55 56 56 83 98 102 29 58 102 104 100 99 89 87 92 87 85 94 88 93 88 51 46 46                                                                                                                                                                                                                                                                                                     12\n",
              "120 125 107 95 95 116 113 113 109 97 94 90 87 95 97 119 109 97 98 103 104 91 87 82 90 89 95 96 93 89 102 96 92 90 94 94 86 51 61 66 52 33 36 51 69 49 30 29 119 125 121 109 95 116 112 117 115 115 108 91 88 99 112 117 105 110 114 114 99 107 113 105 112 115 111 109 110 106 104 105 95 91 102 96 104 79 66 72 65 34 37 58 71 61 35 34 121 124 127 117 93 113 113 119 113 132 124 103 90 115 120 111 120 129 138 124 130 140 129 101 117 128 118 123 123 114 108 112 101 90 102 101 99 112 86 76 75 41 43 63 71 63 40 46 126 101 105 123 104 102 108 108 127 144 146 122 96 117 118 124 131 136 145 149 138 144 132 131 139 130 125 133 130 124 111 109 111 101 104 108 98 111 98 77 74 52 47 63 66 58 45 47 121 70 69 120 115 110 115 110 116 139 150 145 111 122 141 128 136 140 145 134 142 150 154 155 152 137 140 142 144 127 115 111 117 106 111 112 102 114 106 78 68 62 54 64 65 57 51 48 112 72 77 93 120 114 123 130 136 151 172 170 143 126 140 147 137 128 127 135 149 154 159 156 151 150 146 145 142 128 112 119 122 110 120 109 101 111 118 80 70 65 48 54 59 60 52 50 136 93 125 87 102 125 125 136 153 175 192 195 181 160 136 142 144 124 112 123 150 165 165 164 157 155 154 144 129 118 117 135 125 120 121 114 106 107 112 86 69 73 62 46 54 66 54 53 167 150 157 148 117 177 168 168 185 201 210 212 206 194 186 171 169 165 159 154 164 174 169 167 162 152 146 137 125 134 139 140 126 131 120 129 128 115 110 83 67 76 75 44 44 71 56 61 164 165 154 159 143 183 197 199 208 214 216 216 217 214 215 207 203 194 191 191 188 188 182 177 172 163 158 157 158 158 152 145 142 140 133 139 134 138 139 78 74 75 77 38 42 70 58 62 130 116 102 112 128 193 202 210 212 214 218 219 220 220 220 215 214 211 212 206 200 201 199 193 190 186 186 185 185 182 173 167 167 161 155 152 151 154 157 90 69 83 74 32 41 61 62 60 69 120 103 88 120 201 203 213 218 217 221 223 221 222 224 218 217 219 216 216 212 212 207 207 205 204 200 199 197 192 189 186 181 168 163 158 156 158 158 109 72 83 69 35 38 47 61 53 193 165 94 70 110 207 202 208 215 219 222 224 222 224 224 225 222 220 221 220 218 216 215 213 209 209 202 199 200 195 186 181 181 171 163 159 165 162 157 126 75 75 70 48 43 42 58 52 255 188 96 54 103 197 193 205 217 224 228 228 228 224 221 224 224 225 225 224 221 221 221 214 212 206 198 192 187 186 178 160 151 152 154 150 161 166 153 137 79 66 72 58 49 40 56 54 251 212 112 67 119 175 174 188 192 202 211 219 222 224 226 225 225 227 226 222 219 217 211 201 198 184 176 162 155 165 160 162 155 160 152 149 155 162 159 150 103 69 64 66 57 41 47 48 252 229 114 131 147 176 163 127 115 128 134 167 198 211 214 220 221 223 221 219 207 191 164 137 130 134 123 123 145 151 155 165 174 176 168 169 158 154 164 159 108 76 85 78 64 50 48 51 248 253 137 112 185 191 185 164 130 109 103 118 143 171 201 211 216 218 217 216 196 166 140 113 98 106 104 111 129 150 169 180 185 183 181 181 168 157 157 163 135 89 100 89 67 63 51 53 249 254 201 88 175 210 205 216 213 200 190 173 170 173 185 204 217 217 216 213 198 183 185 183 178 170 167 165 169 180 188 195 192 196 191 189 185 172 158 163 159 102 102 100 80 68 67 69 252 252 220 125 170 216 197 164 141 123 111 133 160 177 190 205 223 219 221 215 202 205 199 187 157 121 96 87 93 125 144 133 149 170 191 195 189 179 166 161 160 130 112 109 85 76 79 107 251 255 223 146 187 207 169 131 119 107 111 137 170 146 174 191 204 224 226 207 181 194 191 168 105 137 118 104 104 152 137 109 131 144 156 180 186 185 168 159 159 150 122 114 92 89 96 90 254 255 226 168 190 200 176 183 184 169 162 186 187 180 186 191 190 199 223 194 180 189 192 170 160 165 170 165 162 175 189 195 182 175 174 180 188 188 173 162 157 154 126 112 99 101 118 95 214 214 205 182 182 194 192 185 192 194 204 181 166 168 171 171 178 191 192 189 185 175 175 169 173 165 175 181 182 188 189 192 193 192 192 186 188 182 173 170 158 153 130 117 97 123 129 106 218 214 239 200 181 183 196 194 194 189 189 196 183 191 215 211 190 194 190 191 181 172 186 183 170 182 168 177 182 185 174 189 196 191 187 192 182 179 176 163 153 150 120 108 126 135 103 86 219 252 255 224 175 179 186 208 201 187 213 206 185 227 235 239 218 185 199 189 179 186 197 208 203 186 177 186 188 188 188 200 188 182 178 177 182 176 168 164 161 155 133 105 136 90 100 118 224 255 255 235 179 177 191 209 200 189 215 200 186 232 231 237 224 186 193 186 182 191 205 206 205 189 187 190 186 185 192 195 186 192 175 186 179 187 171 176 178 163 163 127 123 127 170 159 215 242 244 215 180 182 197 212 194 193 218 207 189 203 228 228 197 183 178 183 179 190 198 199 185 182 178 191 192 183 181 177 194 185 188 194 171 184 178 158 171 137 155 115 135 189 176 154 212 207 205 211 207 178 204 212 186 191 219 205 181 176 179 182 176 169 191 189 184 186 187 184 180 191 189 183 184 181 177 175 186 190 168 187 184 169 170 159 165 136 146 104 126 156 158 153 241 235 237 248 237 201 207 211 209 208 216 197 188 186 192 191 186 198 184 178 193 193 183 191 200 206 201 192 190 197 192 194 192 189 193 188 182 177 163 162 146 127 101 116 158 157 163 178 244 244 247 241 242 221 204 210 211 211 212 214 196 188 191 191 193 184 188 197 189 191 192 188 197 205 201 199 199 198 199 198 198 202 197 194 192 185 173 164 147 129 116 137 166 184 194 211 225 240 239 237 236 229 207 212 212 211 211 213 212 203 208 214 215 213 211 209 199 193 191 177 185 198 201 201 200 199 197 198 196 197 197 192 192 183 172 160 148 144 136 145 190 214 210 211 163 191 221 234 236 235 212 211 214 211 212 213 211 207 208 222 219 205 173 183 202 209 186 164 187 200 198 196 202 201 202 202 198 197 194 191 188 176 161 153 151 149 142 157 210 206 205 208 146 157 187 209 217 215 203 207 212 212 213 214 210 204 178 192 215 179 118 143 161 167 160 182 198 200 202 200 202 206 206 202 200 198 192 188 179 170 157 156 155 144 140 159 205 200 199 203 157 200 213 211 211 210 207 202 212 215 217 214 206 203 188 172 191 189 179 177 160 162 183 195 199 201 205 207 205 205 206 205 199 195 190 185 177 169 163 157 152 139 141 155 199 195 195 196 194 215 217 217 217 217 214 199 207 215 215 205 203 198 185 174 175 167 176 167 163 177 190 193 196 199 195 204 210 203 201 199 197 190 187 185 180 172 166 152 150 140 140 152 193 189 190 190 214 220 221 221 221 219 219 204 197 214 209 195 196 198 189 186 186 177 184 179 178 174 175 194 192 195 193 195 205 208 199 195 189 187 185 184 178 171 161 154 145 139 142 152 193 192 192 192 221 224 227 227 224 219 221 228 203 204 194 190 197 199 194 192 187 174 176 186 192 186 183 182 177 180 184 189 199 206 199 190 191 185 179 179 177 170 161 153 137 147 140 148 188 185 182 179 226 229 230 228 232 241 229 187 165 196 185 193 192 204 198 196 196 191 190 191 195 184 185 186 174 174 173 182 185 197 193 187 188 182 181 177 173 170 163 147 144 155 142 116 119 155 174 171 231 233 232 247 219 138 66 20 44 187 199 184 176 164 135 125 164 193 185 178 180 181 184 192 187 183 173 173 174 185 194 189 185 181 180 178 172 168 159 139 156 153 146 79 1 27 72 138 232 239 240 150 48 8 12 21 5 105 217 189 181 133 78 50 53 146 178 166 185 149 98 81 100 110 138 163 175 186 192 186 181 181 179 177 171 166 145 147 155 150 144 71 1 5 1 15 242 230 89 12 15 20 15 13 11 15 164 205 197 191 156 141 103 96 119 127 122 108 105 104 107 138 170 177 190 194 187 182 181 181 178 171 169 151 148 159 156 151 142 54 1 7 7 8 232 82 7 23 17 12 11 10 6 5 93 200 199 203 183 170 175 168 157 156 160 164 156 153 171 189 187 190 189 189 183 178 179 174 171 167 157 142 155 159 157 151 138 32 0 3 4 6 75 17 22 17 13 13 9 5 26 70 111 174 190 203 204 188 179 182 187 184 177 166 163 181 192 186 196 194 183 182 177 174 172 167 169 156 141 144 157 159 153 144 125 67 21 0 2 6 26 23 16 13 11 7 13 46 84 108 131 153 168 195 203 203 197 185 181 181 179 187 191 199 194 195 195 186 179 173 172 169 167 161 152 144 144 156 162 152 151 142 111 94 77 35 4 2 27 19 11 8 7 27 60 90 106 127 136 141 153 175 198 201 197 194 189 188 191 191 192 193 193 194 187 180 166 165 161 163 164 150 144 151 152 159 155 149 148 138 108 98 93 77 39 6 24 17 8 9 33 66 89 108 120 131 135 136 130 165 188 196 192 193 190 187 187 183 183 186 182 182 178 173 149 139 141 151 153 146 149 153 153 154 150 151 146 130 107 102 105 94 72 31 22 18 9 23 61 86 107 124 132 132 140 122 116 147 171 186 202 207 207 200 200 198 191 190 185 175 159 150 135 125 131 147 154 150 152 153 153 154 154 149 140 121 105 111 111 104 89 59 21 19 11 35 81 102 121 132 137 139 137 111 118 148 154 185 200 206 206 200 200 195 194 190 185 160 154 130 116 112 132 157 152 153 158 156 158 154 152 145 138 116 105 117 115 109 97 75 19 19 13 26 95 114 127 133 136 144 139 108 110 147 140 165 196 205 201 203 202 199 194 191 178 150 145 126 111 110 144 160 156 156 158 160 163 158 148 143 132 110 107 121 115 109 101 84 21 19 16 16 88 119 130 132 134 144 140 113 107 133 136 144 166 186 192 192 190 190 182 177 156 140 137 108 108 120 160 152 157 155 154 161 157 155 148 135 128 110 107 121 116 107 98 85                                                                                            12\n",
              "                                                                                                                                                                                                                                                                                                                                                                                                                                                                                                                                                                                                                                                                                                                                                                                                                                                                                                                                                                                                                                                                                                                                                                                                                                                                                                                                                                                                                                                                                                                                                                                                                                                                                                                                                                                                                                                                                                                                                                                                                                                                                                                                                                                                                                                                                                                                                                                                                                                                                                                                                                                                                                                                                                                                                                                                                                                                                                                                                                                                                                                                                                                                                                                                                                                                                                                                                                                                                                                                                                                                                                                                                                                                                                                                                                                                                                                                                                                                                                                                                                                                                                                                                                                                                                                                                                                                                                                                                                                                                                                                                                                                                                                                                                                                                                                                                                                                                                                                                                                                                                                                                                                                                                                                                                                                                                                                                                                                                                                                                                                                                                                                                                                                                                                                                                                                                                                                                                                                                                                                                                                                                                                                                                                                                                                                                                                                                                                                                                                                                                                                                                                                                                                                                                                                                                                                                                                                                                                                                                                                                                                                                                                                                                                                                                                                                                                                                                                                                                                                                                                                                                                                                                                                                                                                                                                                                                                                                                                                                                                                                                                                                                                                                                                                                                                                                                                                                                                                                                                                                                                                                                                                                                                                                                                                                                                                                                                                                                                                                                                                                                                                                                                                                                                                                                                                                                   ..\n",
              "255 194 84 49 45 47 38 14 40 60 64 71 57 65 81 86 85 70 68 99 119 87 44 44 48 51 54 89 114 81 62 103 113 127 140 124 73 59 75 104 73 64 56 62 65 63 80 68 255 179 75 48 48 38 22 20 59 51 64 53 19 46 87 100 70 68 93 99 98 88 61 42 38 39 66 102 106 94 101 100 96 140 150 93 65 93 118 117 93 73 68 56 58 62 69 67 255 159 60 48 49 31 15 47 59 46 63 47 44 50 103 109 76 113 115 48 65 97 85 66 54 72 105 96 125 131 105 104 122 142 130 88 120 147 146 135 120 91 69 58 49 63 55 61 255 133 53 62 46 24 35 79 50 45 88 82 45 62 131 116 121 105 57 46 49 63 96 119 127 131 133 110 117 88 74 99 95 120 143 145 164 168 160 148 131 107 69 49 41 57 45 65 245 99 63 54 42 45 101 112 36 89 134 71 40 77 101 117 97 70 47 38 39 76 124 145 159 170 174 175 166 149 146 153 156 162 168 166 170 172 168 161 146 119 77 40 42 43 36 63 208 81 61 33 58 128 165 131 47 122 123 46 68 94 75 89 111 95 59 94 145 155 165 183 191 192 194 197 199 202 198 192 190 188 181 184 182 180 177 168 159 132 84 39 45 31 35 57 157 60 48 29 105 191 195 136 98 153 109 40 115 159 173 186 182 168 169 189 197 199 202 203 201 201 201 201 203 201 200 198 197 196 191 186 185 187 187 176 160 144 88 40 43 27 29 51 151 52 52 19 132 204 155 104 148 177 97 106 152 171 188 200 196 203 201 207 204 202 202 202 205 205 204 206 206 202 201 198 194 190 190 190 192 188 186 186 173 156 113 51 55 24 25 44 217 113 41 11 152 148 86 81 82 93 94 159 196 201 201 207 207 207 211 210 204 206 211 209 210 209 207 209 207 205 203 202 200 199 207 205 202 203 197 182 178 173 148 85 64 36 26 40 255 161 30 15 152 140 182 194 143 75 71 93 162 214 215 213 214 213 216 215 208 213 216 214 210 210 212 214 212 212 210 209 213 213 211 206 198 185 192 201 182 178 179 149 91 54 35 33 255 180 33 15 151 198 231 227 230 199 127 89 88 139 199 216 218 217 218 216 213 217 219 215 212 213 215 217 215 215 217 213 205 182 167 148 138 119 126 182 200 181 182 178 140 77 47 34 255 199 37 13 149 216 221 216 211 220 203 148 111 97 142 198 216 217 217 215 218 221 219 215 216 215 216 214 204 189 153 141 107 85 79 73 83 104 107 113 160 184 182 182 161 98 54 41 254 223 54 13 150 225 212 205 200 200 208 205 161 119 134 178 204 217 216 214 218 219 219 218 221 216 214 185 157 115 91 73 75 91 141 166 185 215 214 177 137 140 180 184 178 119 77 50 246 255 124 19 142 221 203 193 184 175 173 186 196 179 146 160 196 214 215 215 216 216 214 215 219 215 196 162 141 107 112 111 156 198 219 220 220 218 219 223 215 162 156 186 187 154 102 79 246 255 201 43 130 215 181 155 135 128 122 124 139 170 183 163 186 211 212 211 215 212 212 212 213 215 180 146 123 119 148 182 205 201 196 200 204 206 210 212 213 210 175 182 193 185 138 98 247 250 239 75 124 211 156 108 92 84 82 94 109 119 151 184 188 209 212 210 211 210 208 211 212 212 175 155 161 170 178 165 145 133 140 157 181 195 200 208 208 213 194 186 196 191 180 144 247 249 247 104 125 209 150 84 50 55 108 119 95 129 148 163 179 201 214 212 211 208 207 210 210 207 188 178 184 166 122 104 91 78 75 92 118 156 191 199 202 209 204 194 196 194 191 171 248 248 250 136 131 212 141 52 104 219 228 139 85 73 119 154 154 181 214 214 211 207 211 211 208 200 186 180 164 123 130 121 114 123 105 78 61 76 132 177 188 199 203 197 196 196 193 180 248 249 247 137 155 204 167 135 199 255 174 88 118 66 104 143 151 159 205 222 217 212 213 216 207 189 175 161 134 143 123 168 212 157 124 144 141 52 67 124 169 188 195 196 198 197 192 183 247 249 244 146 193 206 200 166 180 247 168 95 103 75 123 188 147 167 194 226 221 221 223 220 202 182 171 148 147 123 180 246 168 101 88 82 185 169 54 98 156 181 193 198 199 199 193 182 248 249 246 155 199 206 200 175 147 172 182 89 78 79 150 174 154 160 193 222 219 222 225 215 192 188 175 166 135 167 230 238 125 120 99 95 160 214 111 119 165 182 196 200 199 195 192 180 248 249 246 157 193 205 205 199 182 156 154 155 153 167 167 159 178 180 196 216 213 215 219 210 196 196 185 150 144 163 176 215 152 74 78 96 154 156 138 155 175 185 194 199 197 191 190 178 248 249 245 156 194 204 212 211 191 187 184 174 175 176 171 185 195 194 205 212 208 211 214 205 198 199 195 192 180 161 162 165 162 138 141 148 140 157 175 181 193 198 199 200 196 190 189 178 248 248 251 163 185 207 210 214 207 191 181 174 170 172 183 196 199 203 209 212 209 211 211 205 200 204 201 196 190 182 183 187 189 178 174 174 174 179 185 194 200 203 204 201 194 192 188 178 248 249 250 201 197 205 211 211 210 205 197 194 197 203 208 206 207 206 210 211 208 212 210 205 202 204 205 202 203 195 184 180 179 178 180 182 185 192 198 200 203 204 202 201 195 191 188 180 248 247 252 217 194 207 209 211 211 211 210 207 206 207 209 214 214 208 215 210 208 209 208 207 205 207 209 207 210 208 203 196 192 188 189 192 198 204 207 205 202 204 203 200 193 189 188 184 248 248 251 231 198 207 209 212 211 212 211 208 208 210 216 219 215 213 214 206 205 202 204 208 208 209 211 212 214 211 204 208 206 204 204 204 206 206 208 205 202 202 199 196 192 188 187 185 248 248 248 247 211 202 208 211 212 214 213 212 214 213 217 220 214 211 209 204 205 202 202 203 205 210 210 209 216 219 212 208 210 211 210 209 211 209 205 202 202 199 195 193 190 188 187 183 249 249 248 249 215 199 206 208 211 212 212 214 216 215 215 218 215 204 204 207 207 201 196 197 201 207 208 209 215 220 221 220 216 216 216 214 213 212 209 202 200 199 194 192 188 185 187 182 249 249 247 251 224 198 209 209 211 212 214 216 216 215 212 211 207 198 202 209 201 194 194 191 197 199 206 208 215 222 224 224 218 218 218 216 215 211 208 204 197 193 192 190 187 186 188 184 249 249 248 250 238 201 208 209 213 213 215 217 218 216 208 197 200 201 204 209 204 196 193 189 193 193 200 207 214 222 225 226 221 217 215 215 214 210 203 199 195 192 190 186 184 186 187 186 249 249 249 248 248 210 206 209 209 210 213 214 215 216 201 193 205 202 206 212 212 204 195 190 193 190 191 197 209 220 222 224 224 217 215 213 210 209 202 197 194 192 189 186 184 183 186 187 249 249 249 247 251 225 203 208 205 204 208 210 211 209 193 202 213 208 213 217 216 207 199 196 200 196 184 181 202 213 219 221 220 217 214 213 207 205 201 196 192 186 184 183 183 182 185 187 248 249 249 248 250 241 202 203 202 201 202 206 205 200 192 191 194 211 212 215 211 203 201 206 205 202 190 171 193 207 212 215 216 213 211 211 206 200 197 192 188 185 182 181 182 181 181 188 248 249 249 249 248 250 213 193 196 197 201 203 199 196 194 193 161 181 203 206 200 189 164 102 118 187 191 173 191 201 205 208 208 206 206 205 203 199 194 190 188 183 181 181 180 179 183 190 249 249 249 249 247 251 231 190 191 192 197 195 192 197 206 207 193 183 198 186 182 159 136 102 123 163 170 188 204 202 201 202 198 198 204 200 197 192 189 188 185 181 179 180 179 176 184 190 249 249 249 249 248 249 244 200 189 192 193 190 191 202 209 208 209 208 204 188 164 159 181 194 186 173 186 202 209 204 199 198 193 192 195 195 189 183 184 180 180 177 176 178 178 179 185 190 249 249 249 249 249 248 250 216 185 187 189 192 197 210 212 211 210 209 208 202 186 191 200 201 204 206 203 207 210 205 196 191 187 191 191 187 183 182 181 175 175 174 173 176 177 183 189 192 249 249 249 249 249 248 250 234 188 182 188 191 203 215 215 212 208 202 206 208 203 204 206 208 210 208 207 208 207 207 200 187 180 182 185 179 178 179 177 175 172 170 174 176 179 184 189 193 249 249 249 249 249 249 248 247 203 183 186 190 203 212 216 213 205 190 187 192 198 200 203 202 203 207 209 206 204 206 200 186 175 176 176 175 175 174 171 172 170 172 175 177 182 188 191 192 248 249 249 249 249 249 247 251 226 187 182 185 199 207 208 205 196 189 198 178 181 192 195 193 191 199 208 207 202 198 194 187 170 167 171 171 172 172 169 171 171 174 175 179 183 187 192 191 249 249 249 249 248 249 248 249 246 202 183 184 185 197 201 195 191 209 229 227 182 171 190 186 183 180 187 193 194 192 186 182 176 166 168 171 173 173 171 170 174 175 176 180 186 191 191 185 248 249 249 249 249 249 248 247 251 227 188 183 180 192 200 189 199 229 210 214 210 98 109 183 192 211 193 177 183 181 181 178 174 172 167 175 176 175 171 172 175 175 176 181 189 190 191 181 249 249 249 249 249 249 249 248 249 246 201 178 182 197 199 181 192 214 207 189 158 74 159 199 210 234 239 193 182 192 189 174 170 174 171 177 176 172 173 174 175 175 178 186 190 189 188 188 249 249 249 248 249 249 248 248 247 252 221 187 201 199 196 181 171 180 177 154 127 176 196 213 232 215 221 205 87 102 126 150 165 173 174 177 175 171 171 173 173 175 184 188 188 194 184 193 249 249 249 249 248 248 248 247 250 246 215 204 202 189 184 184 172 168 136 124 190 206 191 219 222 209 201 160 17 0 46 132 163 168 176 180 171 167 169 173 173 179 187 189 191 197 178 202 249 249 249 249 248 249 248 250 240 214 210 213 207 194 178 179 174 137 132 193 208 202 190 188 191 187 176 107 21 47 126 160 165 168 171 177 169 167 170 171 177 184 189 192 195 192 173 208 248 249 249 249 249 249 250 238 206 210 217 215 211 206 194 177 145 138 198 202 199 200 187 168 162 154 162 223 157 104 151 163 168 165 167 169 167 168 170 175 183 188 191 193 197 182 175 191    12\n",
              "68 53 46 46 39 45 49 64 70 67 69 93 85 77 94 113 125 136 145 148 152 152 145 139 136 136 126 120 114 108 103 97 84 72 58 50 43 33 36 34 38 37 38 46 51 63 83 122 66 47 41 38 34 53 76 92 90 89 100 109 104 110 129 142 153 155 158 161 158 158 151 142 140 143 131 126 122 118 114 108 100 92 80 65 58 48 39 32 34 33 33 41 48 66 105 131 56 47 44 35 37 76 103 104 107 114 120 129 135 139 142 155 164 166 167 169 163 159 153 146 142 141 135 128 128 124 119 114 110 103 97 86 77 73 59 43 35 32 35 40 41 51 94 135 47 43 42 32 53 98 110 115 128 131 138 147 146 148 153 160 164 166 174 171 164 164 158 151 145 144 143 138 132 128 126 121 115 110 103 97 89 85 78 61 44 34 30 34 34 40 73 115 48 41 44 36 70 118 117 134 142 142 145 148 149 154 162 165 167 171 171 172 170 167 163 154 147 148 144 139 135 131 128 125 120 115 111 102 94 87 84 78 61 49 29 25 30 39 70 93 53 50 41 33 89 122 126 142 142 146 146 150 157 159 163 165 165 171 169 173 170 163 163 159 152 154 146 140 137 134 129 127 124 118 113 107 101 95 92 85 75 63 40 22 30 48 77 88 55 51 38 54 105 122 133 140 140 148 149 156 159 157 160 163 163 166 167 166 165 167 163 160 158 156 148 144 142 137 130 127 122 121 117 109 105 100 98 93 85 75 54 23 27 36 65 92 52 44 45 67 110 130 135 140 143 147 150 155 158 158 155 159 161 164 165 163 164 167 161 159 156 153 150 145 143 139 133 127 123 118 114 111 108 103 103 103 91 82 64 27 28 38 52 82 53 40 45 69 120 138 137 141 145 154 154 156 159 158 156 157 159 165 163 161 160 163 161 156 153 151 146 144 139 138 133 128 123 118 114 111 107 100 98 102 95 86 73 35 28 39 50 81 49 42 47 75 122 137 139 142 147 152 154 155 155 156 156 159 161 161 162 160 157 157 158 152 150 148 144 141 138 138 134 128 125 122 116 110 104 99 94 94 95 88 76 42 26 32 47 58 52 52 50 75 124 136 139 146 150 153 156 156 154 154 159 161 160 160 160 156 157 155 154 152 150 149 144 140 135 136 133 128 126 122 117 111 106 101 94 89 90 90 79 44 28 37 45 68 56 47 52 82 122 138 141 147 150 153 157 161 161 166 165 166 163 159 157 154 153 151 150 152 153 149 143 138 136 135 129 127 124 120 117 111 109 107 100 91 89 89 80 44 30 39 48 63 51 45 52 80 111 137 141 146 150 153 159 165 163 164 162 156 149 147 143 143 145 142 147 152 152 145 140 133 129 131 129 125 123 121 117 112 110 108 103 96 87 88 82 46 30 42 52 72 54 53 52 66 105 137 141 148 153 158 160 152 140 132 125 118 118 119 120 123 128 132 139 147 149 145 139 136 134 129 126 122 114 103 93 87 82 87 90 92 89 86 83 44 27 39 52 72 51 52 50 72 104 137 143 150 156 152 140 132 134 134 136 133 133 129 127 127 125 128 132 146 151 146 140 140 136 128 122 113 100 92 87 80 72 71 77 80 88 87 82 42 28 40 55 65 51 44 50 76 104 137 150 154 149 136 139 151 158 157 156 148 137 132 130 130 129 129 137 151 153 146 138 137 130 125 116 106 97 95 97 99 100 96 89 82 76 83 82 38 29 41 55 88 54 45 51 73 110 143 154 156 146 148 156 155 142 123 113 99 100 109 123 127 132 140 149 156 154 145 135 130 126 118 107 103 102 102 102 98 98 101 100 97 83 77 83 36 31 41 58 99 59 59 47 64 118 153 161 156 156 159 149 123 92 72 77 76 54 63 87 117 139 153 158 162 160 149 139 132 127 116 103 97 87 68 67 64 63 69 84 100 100 87 81 35 28 51 70 91 65 63 53 65 129 161 162 159 161 146 120 98 95 97 94 136 47 34 71 102 131 153 166 172 173 162 147 136 125 104 93 84 74 105 56 32 48 55 66 89 104 98 83 33 33 46 63 92 78 66 54 67 137 165 165 162 158 142 118 73 123 162 66 71 49 43 81 108 134 163 173 186 192 176 152 138 121 97 81 100 93 92 59 50 74 72 54 79 98 103 89 33 40 47 62 87 82 82 67 75 143 167 166 162 158 155 149 154 168 165 126 136 80 70 110 125 157 181 179 199 206 186 161 147 126 110 89 130 117 72 56 43 64 107 41 71 96 103 96 38 45 57 80 97 92 86 97 93 144 167 171 175 177 184 194 199 199 194 185 173 158 145 138 152 174 179 191 202 199 188 171 155 138 120 116 138 141 116 77 49 79 103 79 80 97 101 101 42 36 54 87 111 100 71 96 113 147 167 172 178 182 181 183 186 183 179 172 163 149 145 164 180 180 190 195 192 188 180 168 156 144 134 126 127 135 129 116 110 111 118 124 117 106 102 104 60 48 65 94 107 111 70 86 114 145 167 169 172 176 181 189 193 189 180 174 170 176 192 194 188 196 196 187 181 178 175 163 154 144 137 138 130 127 122 116 117 115 114 112 115 110 110 107 89 84 85 96 104 164 101 93 113 139 166 170 171 175 181 191 201 204 206 205 204 203 202 199 200 197 187 181 195 206 206 177 162 151 129 135 139 135 134 125 122 120 121 123 121 113 110 109 90 95 95 100 111 193 147 101 110 133 166 172 170 171 177 183 198 207 211 211 210 208 201 197 190 185 185 199 208 201 200 176 159 159 145 130 132 139 140 145 144 140 138 136 130 115 111 110 91 95 105 108 124 199 179 131 109 123 164 169 168 170 175 183 192 202 205 208 205 198 190 182 180 185 200 208 188 176 181 160 144 158 165 146 121 139 148 151 148 146 142 135 124 113 112 109 96 97 109 123 131 196 202 168 123 120 159 166 166 171 175 176 184 192 196 195 191 182 172 175 174 181 178 127 120 157 169 147 131 130 138 141 117 137 154 155 156 152 148 140 124 112 110 111 104 107 110 112 130 186 190 174 141 127 154 166 166 170 173 174 180 182 185 185 177 166 160 173 170 151 130 81 61 111 147 131 88 93 126 126 114 135 153 155 155 153 145 135 121 113 112 110 117 125 133 127 129 186 191 192 162 128 151 162 164 165 169 175 177 179 181 176 162 150 156 175 187 166 133 125 120 114 120 109 92 98 109 109 114 130 149 158 152 145 137 125 116 111 110 113 122 127 132 140 147 192 206 205 169 137 149 160 159 160 164 170 174 175 176 167 148 136 160 180 186 187 176 169 165 151 143 131 121 112 104 109 115 122 138 153 148 140 128 118 112 110 108 109 124 134 128 130 151 211 211 203 184 152 149 160 156 154 157 163 167 168 164 154 133 132 165 181 184 183 181 177 171 159 166 165 147 129 118 112 115 122 129 146 143 133 123 115 112 109 104 104 122 133 129 139 151 208 206 206 199 176 151 157 156 150 153 158 161 160 154 141 122 135 166 173 173 174 174 173 164 152 161 164 145 130 124 115 113 122 125 137 137 128 122 115 111 107 104 106 110 122 126 134 141 212 205 197 197 189 156 151 154 147 152 157 157 155 153 137 116 134 156 163 168 172 172 169 166 165 165 154 136 127 120 113 109 115 124 135 135 125 118 115 108 106 99 100 112 113 112 111 122 211 200 187 182 173 159 145 151 147 148 154 156 156 157 139 109 124 144 155 154 144 139 137 137 140 130 120 116 116 118 111 104 110 126 138 132 123 115 110 104 107 87 89 110 99 97 101 114 198 197 187 177 164 143 131 141 147 146 150 155 159 159 141 110 118 121 84 67 106 118 110 100 95 94 95 92 86 92 105 101 110 136 140 127 120 113 106 104 99 82 87 97 102 103 95 104 190 187 189 190 162 143 154 136 141 147 150 156 160 158 142 112 123 104 31 24 77 128 127 118 105 102 103 97 70 53 96 104 123 145 135 122 116 108 104 103 76 73 74 82 103 109 94 94 188 177 160 147 153 170 162 129 128 142 150 156 157 154 138 115 139 152 97 35 41 95 136 145 134 119 107 90 63 73 104 115 134 141 128 118 111 104 104 78 34 51 54 81 95 106 104 93 147 111 82 110 159 160 141 113 117 138 142 146 147 146 131 121 158 166 165 113 47 47 80 102 103 81 66 64 72 96 112 124 136 134 123 114 108 106 82 24 24 33 46 58 75 98 114 103 85 64 81 160 160 145 123 122 103 86 135 136 141 138 129 132 168 171 161 171 133 95 91 98 108 107 91 88 98 110 121 131 135 127 119 111 108 83 21 15 22 25 37 52 53 60 88 109 60 85 115 159 143 125 117 136 66 40 106 130 136 138 133 147 171 177 162 150 166 169 165 174 173 146 126 124 115 123 130 131 128 122 116 110 96 57 9 21 26 22 27 46 64 65 63 74 79 120 110 137 159 113 122 122 60 89 82 104 125 134 137 152 171 176 167 155 150 150 149 150 136 128 133 125 129 135 131 128 124 118 112 88 75 70 20 20 29 33 27 34 53 71 71 68 113 116 111 107 145 157 139 100 87 101 88 86 105 114 131 148 166 169 166 157 148 140 139 136 133 134 131 134 138 135 128 125 120 107 76 65 81 71 21 20 26 32 43 32 44 61 76 69 114 108 110 106 102 129 166 157 132 115 106 95 98 89 93 128 159 158 155 157 152 145 139 138 143 142 140 139 136 132 128 114 92 62 57 73 86 65 30 28 27 34 46 49 36 57 66 78 110 105 109 113 108 100 108 145 173 165 153 141 120 99 74 67 116 155 144 144 146 141 138 137 139 140 139 137 139 131 102 75 62 60 69 76 90 80 50 37 37 40 49 59 48 45 66 70 108 104 104 105 106 106 101 89 115 164 171 161 152 136 115 87 68 114 150 145 145 144 141 141 136 133 135 141 127 85 65 64 66 67 74 85 103 106 90 74 69 58 51 60 65 44 58 70 99 101 98 103 104 104 105 101 88 102 144 169 169 164 156 145 121 89 100 129 140 143 143 139 136 132 129 101 64 62 69 70 71 75 90 113 126 103 114 128 132 122 89 64 68 62 52 68 93 93 95 101 104 104 101 97 97 90 90 121 153 169 169 171 167 146 110 87 96 114 119 112 105 92 58 40 67 75 77 82 99 119 131 156 137 109 136 155 174 189 160 110 90 71 59 64                                                                                                                                                                                                                                                                                                                                                                                         12\n",
              "59 54 55 74 82 95 85 63 62 31 17 3 3 14 16 8 13 24 31 37 53 76 102 119 121 126 118 97 56 33 27 40 60 54 62 79 52 39 98 77 106 131 95 83 109 76 52 46 59 56 73 101 130 87 87 61 43 19 14 6 12 13 7 9 16 24 41 57 82 98 113 114 112 117 111 105 68 44 34 33 43 59 78 84 89 59 65 64 72 89 110 107 78 88 55 43 58 55 94 113 107 88 67 57 27 14 21 29 23 11 7 16 30 53 68 79 97 101 110 123 118 113 106 100 73 49 37 26 22 26 56 89 99 108 89 89 79 82 112 154 69 83 69 48 63 64 70 90 86 73 57 53 32 22 18 21 18 16 23 38 56 68 80 93 96 107 127 147 138 127 105 102 81 47 34 30 27 22 25 45 76 91 117 111 79 73 47 48 67 72 77 43 84 73 66 67 71 43 43 49 23 17 22 28 26 27 43 58 68 78 86 96 96 107 127 124 133 138 111 108 86 49 32 29 29 23 22 30 38 53 63 79 74 67 55 8 27 55 65 48 70 75 73 59 48 39 33 58 29 22 27 27 34 42 57 68 77 86 96 101 103 104 106 114 121 128 117 105 85 56 32 27 28 30 21 15 35 75 82 78 75 68 83 73 95 56 64 53 65 66 63 46 49 46 29 50 36 25 26 35 49 59 69 77 86 94 101 103 104 102 103 104 110 118 106 99 87 65 42 25 23 30 33 39 45 61 76 91 77 81 120 125 160 121 89 54 58 55 46 45 45 44 31 46 37 34 44 57 61 70 78 86 95 97 98 102 99 99 101 103 106 103 100 98 88 72 49 34 19 17 21 30 60 80 93 85 77 84 95 81 109 156 165 112 68 66 52 57 53 46 31 41 41 48 64 65 69 72 81 90 92 93 92 94 95 95 95 101 107 101 100 96 87 79 61 45 31 20 12 7 9 24 43 74 83 70 65 64 96 116 153 171 75 66 54 49 53 49 36 35 41 58 70 66 70 77 85 86 89 90 94 96 97 100 102 104 103 99 100 98 94 89 80 66 49 28 13 10 9 14 22 25 26 46 84 66 82 98 113 136 74 71 71 51 54 58 33 41 38 56 76 71 68 74 81 87 92 92 95 97 102 101 97 96 97 99 110 112 101 101 94 87 73 54 30 12 4 6 14 16 6 10 43 40 30 43 67 96 68 61 71 53 47 46 38 41 46 51 76 65 61 74 85 89 88 92 97 100 102 99 93 92 94 104 114 114 109 104 100 95 84 75 60 31 11 3 6 8 12 26 37 34 22 40 59 87 69 61 61 55 48 47 44 41 54 50 70 65 74 83 83 82 90 98 101 104 98 95 94 90 91 99 108 99 79 95 98 96 88 77 70 42 25 17 7 4 13 41 55 65 45 56 60 72 80 66 53 56 60 47 52 49 55 45 62 70 71 77 79 85 96 99 102 98 86 86 84 80 85 85 81 78 67 80 92 93 93 85 77 57 23 24 22 27 44 66 77 95 77 67 65 60 73 62 59 60 57 51 72 59 57 51 49 72 77 86 85 88 91 96 98 89 83 77 66 54 61 73 70 68 70 81 82 90 87 79 89 81 52 29 23 41 62 60 67 93 96 80 53 53 63 57 58 56 54 59 70 65 58 59 49 71 86 90 84 82 91 88 86 80 67 48 40 41 43 42 38 49 70 89 97 103 91 75 96 86 72 48 28 49 79 78 63 68 91 94 40 47 68 63 54 61 50 64 72 62 55 61 51 62 87 90 84 76 83 82 71 56 41 33 40 81 88 37 42 68 85 92 96 94 94 80 92 92 69 57 44 78 88 87 87 58 76 109 43 34 97 86 80 87 76 75 95 76 52 62 55 62 95 89 81 63 62 66 57 44 43 46 59 101 107 79 82 84 94 98 94 102 100 82 87 95 78 74 80 89 87 94 92 78 77 109 54 17 159 160 155 145 145 125 138 112 57 60 54 62 87 85 75 66 78 70 62 58 56 63 64 72 78 83 84 96 101 91 96 104 100 81 82 98 91 89 93 90 84 85 81 88 86 109 51 15 129 138 141 124 130 146 138 110 49 59 63 55 61 57 50 51 76 99 84 75 70 72 76 80 87 92 98 101 98 99 101 95 89 79 80 93 94 93 92 90 83 77 78 76 90 97 24 14 70 65 62 65 77 100 94 76 49 53 67 64 52 53 34 7 46 102 93 84 82 81 82 88 91 94 97 101 98 92 95 93 89 75 77 91 92 95 95 89 87 88 88 85 95 50 0 12 63 59 56 63 73 89 83 74 69 47 71 84 68 121 76 56 75 98 102 95 92 96 99 94 94 94 96 95 86 82 82 79 84 70 77 89 89 94 98 91 82 73 88 88 78 10 1 5 59 58 56 61 68 90 76 74 68 62 72 83 76 101 100 95 91 98 103 98 97 99 103 103 96 96 96 93 84 82 80 75 77 71 86 87 84 90 99 96 86 50 62 78 76 25 1 6 71 67 64 67 79 100 73 73 62 62 64 86 109 114 111 104 98 98 104 97 100 104 101 100 94 92 94 93 90 83 75 77 81 82 89 89 87 92 100 102 96 73 71 83 88 54 4 26 79 62 61 61 75 91 65 75 77 71 64 73 101 109 110 111 105 96 102 102 94 90 90 86 86 90 89 87 86 80 77 79 82 86 91 89 87 87 97 103 99 94 90 90 91 69 7 7 90 66 50 62 76 85 57 59 74 77 67 69 95 97 106 114 104 93 104 108 91 85 92 85 78 84 86 82 81 85 81 79 83 90 93 88 89 88 93 97 100 101 92 92 90 78 25 0 85 88 68 77 91 91 69 59 68 80 70 67 90 99 109 112 94 90 104 109 103 107 88 87 80 86 90 85 82 85 83 84 84 89 89 87 87 87 90 93 95 98 92 89 85 80 53 5 75 95 80 69 90 80 58 58 70 80 69 69 84 95 102 100 87 86 94 100 89 60 38 78 86 94 94 91 92 90 85 83 84 86 84 83 83 84 85 90 92 95 89 86 80 73 62 33 68 79 87 66 89 74 55 58 61 71 71 73 73 80 92 92 97 108 105 85 69 70 83 86 89 90 93 91 91 91 89 90 90 86 80 84 82 80 82 88 89 92 88 91 76 79 124 149 58 64 91 84 92 81 76 73 68 73 79 72 58 77 85 95 100 114 113 95 86 88 87 85 86 83 82 83 86 89 93 90 87 84 82 84 84 79 80 85 84 88 92 84 74 96 123 196 61 62 77 101 95 74 72 67 65 78 80 69 61 75 86 90 99 99 97 93 95 95 92 87 82 78 79 84 85 89 91 92 87 83 81 83 82 77 80 84 81 86 87 64 81 87 78 156 59 58 58 97 101 72 69 67 72 85 94 118 134 80 81 95 95 103 92 88 94 92 95 81 84 80 85 90 82 87 91 92 87 81 75 80 80 76 81 81 79 86 71 66 89 88 82 146 58 66 62 71 91 76 80 96 106 124 141 152 147 77 46 99 97 103 90 90 97 96 93 73 87 80 67 44 57 85 91 90 82 77 75 73 77 77 80 80 79 80 61 72 80 78 93 170 61 70 62 72 93 96 131 148 121 130 111 89 84 55 33 72 105 101 91 96 105 98 97 103 95 38 43 65 87 91 89 89 81 75 75 71 70 76 80 75 76 67 62 73 67 69 141 139 60 65 58 77 88 110 141 122 99 101 64 44 44 42 37 45 96 107 96 108 103 56 67 71 54 61 86 95 95 95 90 86 83 78 74 73 67 73 77 72 70 57 68 70 51 117 162 64 67 70 59 72 86 82 83 79 81 73 47 40 41 43 41 39 66 107 104 110 86 31 26 61 80 93 94 94 92 96 92 86 83 80 79 75 74 75 72 69 58 63 70 60 70 132 78 85 67 68 63 77 81 49 45 53 64 55 37 39 40 42 43 44 40 77 111 100 80 75 82 74 90 89 87 89 92 94 89 83 83 79 81 78 74 74 66 57 53 69 60 55 95 115 136 87 65 64 64 63 49 41 36 32 54 56 37 39 41 43 45 45 44 40 96 104 99 97 86 78 86 88 89 92 90 92 90 83 72 77 73 57 67 64 55 47 59 60 51 68 106 174 141 88 65 62 62 50 43 44 43 40 45 44 37 39 43 44 43 44 48 41 73 107 100 104 94 90 92 90 90 91 93 93 93 91 73 54 53 57 64 54 45 52 60 51 49 90 173 172 162 154 55 52 53 47 45 45 44 45 48 41 36 39 43 43 42 41 42 53 75 88 105 100 100 95 91 90 92 94 92 92 91 92 82 56 60 67 55 42 47 61 59 47 61 60 121 108 116 164 54 50 45 40 36 38 44 43 43 39 35 38 42 44 42 38 39 57 72 47 94 100 96 95 90 93 94 92 92 90 90 87 79 69 64 58 43 42 61 68 56 47 57 59 64 38 77 160 55 49 52 80 90 62 35 37 39 35 36 38 40 42 43 38 33 55 71 39 52 96 94 92 92 96 97 92 89 88 86 81 71 62 60 46 37 60 73 67 49 52 57 84 54 56 133 155 52 69 133 172 204 178 107 44 33 36 37 39 40 44 46 44 39 78 113 91 38 56 98 92 100 98 98 94 89 84 82 73 62 58 50 36 52 70 75 62 45 62 53 82 61 131 150 102 67 116 147 143 173 196 154 105 38 38 40 40 39 39 41 46 68 106 136 144 86 18 90 101 101 99 98 94 86 83 75 61 60 57 41 46 67 74 73 56 49 63 45 100 110 124 88 108 93 111 95 90 109 129 113 129 71 35 40 31 29 32 33 43 50 71 94 103 98 25 48 111 111 101 95 91 81 75 69 71 79 76 53 63 75 75 71 54 63 50 49 98 142 86 136 214 79 80 72 86 106 116 136 127 80 32 27 20 25 30 33 34 39 62 54 51 65 34 12 49 96 108 91 70 73 91 107 93 74 69 67 75 76 75 71 58 72 35 59 109 92 162 220 192 68 72 79 104 113 121 161 161 98 30 17 25 32 35 33 32 41 39 34 39 40 20 24 26 35 57 33 21 30 57 73 84 79 63 73 76 74 72 73 76 61 29 89 112 113 175 176 176 68 76 94 98 102 105 108 126 104 41 23 31 36 34 32 34 34 30 37 40 38 34 53 70 46 23 11 24 36 51 64 64 75 73 79 76 69 72 78 83 40 51 94 113 126 132 163 181                                                                                                                                                                                                                                                                                                                                                                                                                                                                                                                                                                                                                                                                                                                                                                                                                                                                                                                                                                                                                                                                                                                                                                                                                                                                                                                                                                                                                                                                                                                                                                                                                                                                                                                                                                                            12\n",
              "25 37 53 56 62 75 84 94 103 110 114 119 124 127 129 134 124 115 125 130 125 126 124 117 108 106 99 102 70 69 65 68 53 31 54 71 89 96 56 35 24 69 120 188 253 251 254 254 31 38 41 41 42 45 55 78 101 109 117 124 129 132 130 130 130 129 122 123 121 121 121 120 111 107 98 103 93 66 66 62 55 38 53 62 92 96 63 51 39 49 118 200 243 251 254 254 25 28 27 30 36 36 30 30 47 62 69 67 81 103 118 122 125 133 135 131 124 117 118 120 117 110 103 90 104 75 63 64 60 47 49 67 70 101 71 56 56 53 146 218 233 239 252 254 29 30 34 37 38 41 42 37 29 33 48 58 59 61 106 119 123 131 132 131 126 123 125 122 120 112 105 93 94 91 67 59 58 61 48 80 73 88 86 51 55 86 172 202 212 217 227 235 32 36 41 39 36 41 44 45 49 46 49 64 74 78 100 113 113 113 116 115 111 119 123 122 120 113 107 106 92 91 82 60 52 66 64 74 97 77 95 54 62 107 168 185 201 209 211 227 30 36 40 38 37 38 43 41 39 46 50 53 58 66 63 77 88 97 107 116 123 130 131 125 121 116 112 115 108 90 81 56 53 48 63 71 95 97 106 62 66 122 159 170 177 187 208 216 33 36 40 44 49 52 50 43 42 44 50 56 57 59 68 81 105 124 131 133 129 131 138 128 125 124 121 121 119 97 78 57 51 59 52 74 82 97 100 70 65 94 133 139 155 175 186 184 23 28 34 44 48 51 49 48 49 46 47 49 59 80 101 105 102 122 134 132 128 134 139 130 129 130 125 125 120 106 83 63 40 62 61 76 86 93 90 89 72 56 111 135 132 136 141 154 17 28 41 50 54 57 60 60 61 66 67 63 61 71 84 95 103 98 108 122 131 134 137 131 120 138 133 131 126 114 85 65 44 44 69 79 93 89 92 100 107 46 79 149 148 154 165 174 22 40 57 68 73 74 79 80 80 76 78 84 83 76 76 79 88 100 102 116 126 131 137 132 118 140 136 132 132 119 88 72 57 48 66 90 86 96 113 84 76 51 47 107 147 152 155 155 32 38 53 63 65 66 66 67 71 78 71 71 78 85 90 94 98 99 110 118 122 126 130 134 116 129 131 122 124 120 96 78 66 55 50 82 84 93 130 75 74 57 39 76 132 131 124 125 37 44 47 52 61 69 74 81 86 86 84 85 85 83 85 91 99 104 112 107 111 114 121 133 113 117 123 109 109 107 91 70 67 58 37 57 89 79 125 79 70 67 36 50 101 110 99 99 41 53 65 69 68 69 72 80 93 103 105 107 107 106 98 97 106 110 120 118 118 114 117 119 111 102 113 95 84 62 44 43 57 73 49 43 85 95 113 76 65 66 45 42 77 95 95 100 50 55 61 70 79 84 80 75 82 95 101 99 93 93 96 96 103 106 110 107 102 99 102 95 106 87 90 80 60 37 22 28 48 81 71 51 71 102 115 85 57 45 40 32 66 85 87 96 47 54 64 65 64 69 74 80 78 69 65 59 56 56 55 58 65 60 47 47 54 67 67 74 106 87 65 56 40 18 17 18 33 65 86 56 64 78 130 103 32 23 28 28 56 91 95 92 56 55 58 64 65 62 57 52 41 36 35 32 33 33 34 32 32 46 46 36 38 46 46 70 104 106 63 35 19 26 44 57 29 42 80 76 68 71 133 119 20 14 30 35 56 92 117 108 81 81 74 71 71 72 67 54 39 36 34 38 43 47 52 51 39 21 27 33 31 40 55 79 115 129 75 33 29 47 69 73 42 49 78 93 83 78 120 126 17 11 26 38 60 83 90 116 86 98 95 89 87 90 73 57 49 57 65 66 61 58 62 40 24 17 16 28 49 49 69 104 132 146 108 53 46 54 52 56 58 67 77 90 104 85 118 127 13 10 21 49 64 75 76 71 85 101 102 99 100 92 72 65 73 68 54 41 31 38 71 50 35 50 50 52 68 63 80 107 136 148 136 73 41 44 47 53 55 68 80 84 121 107 124 121 9 15 25 50 56 56 44 62 80 101 106 106 105 101 91 83 70 57 52 60 69 74 74 73 76 68 58 61 68 76 89 108 134 149 149 110 64 61 66 70 78 90 102 79 111 115 125 134 17 12 23 29 60 57 36 47 70 95 107 108 109 110 110 104 103 106 99 87 79 79 81 80 74 75 80 88 94 87 100 111 127 150 153 139 104 95 92 89 97 105 101 73 102 116 128 134 26 15 17 17 71 80 50 54 73 93 104 109 111 114 115 114 117 115 114 104 88 79 74 73 83 91 107 112 107 101 109 115 124 147 155 150 126 111 110 106 105 107 91 79 99 111 124 122 24 13 17 42 63 77 62 61 76 90 102 104 111 114 119 119 119 123 124 119 111 104 98 100 104 109 118 113 112 110 112 116 127 144 153 154 140 120 119 117 114 104 98 92 99 115 124 120 24 10 26 55 72 68 61 73 65 81 98 100 107 109 115 120 119 122 130 133 134 134 130 128 124 120 116 116 111 111 115 120 129 143 154 155 144 133 125 119 111 111 105 101 99 110 125 105 22 23 21 52 81 75 62 73 56 70 82 87 93 100 99 105 111 113 119 124 127 129 129 127 122 117 116 119 115 115 121 125 129 137 149 152 148 134 119 121 116 118 101 111 102 105 127 90 13 23 23 50 80 85 60 51 51 72 85 84 85 79 81 99 107 110 111 115 122 129 133 127 124 118 118 117 110 110 118 122 126 134 143 151 154 145 123 108 119 120 103 115 107 109 130 73 14 30 35 47 66 72 49 54 53 60 74 77 77 78 84 96 101 106 113 119 128 133 130 126 124 124 119 105 101 118 122 121 125 134 144 150 153 152 154 128 100 108 104 117 106 108 136 57 11 23 27 37 44 58 38 28 68 61 73 82 89 91 87 92 96 107 113 120 125 128 127 127 127 124 111 99 111 137 143 138 132 138 143 141 142 137 136 137 98 92 96 114 101 103 148 57 25 49 43 42 42 57 42 20 76 62 82 88 97 95 91 96 99 104 106 115 118 123 128 127 126 116 107 98 105 125 128 124 114 109 110 115 110 105 80 103 123 100 84 105 95 112 144 80 44 55 71 70 57 54 42 27 92 66 80 86 100 100 96 96 96 96 102 110 113 117 124 123 120 107 112 107 85 81 54 37 49 61 76 83 88 62 48 104 122 123 99 96 91 124 135 88 65 49 54 56 72 54 50 51 86 72 81 82 93 96 95 98 96 100 103 108 111 115 118 118 107 100 116 125 100 60 36 37 29 30 53 75 61 48 60 83 95 106 98 97 84 127 124 77 76 61 42 42 71 63 75 85 90 74 76 85 85 99 98 99 102 103 101 100 104 110 113 110 98 113 124 119 110 89 69 70 52 38 57 60 52 59 64 68 72 82 84 95 84 121 113 68 71 65 53 54 75 77 75 80 98 80 74 82 87 98 101 102 102 100 102 102 99 98 101 93 99 115 110 101 95 79 66 66 64 52 60 47 44 65 73 69 58 64 78 87 88 123 104 67 66 65 64 68 83 101 99 96 99 92 64 75 90 97 99 102 100 98 100 95 94 94 89 85 91 86 85 82 72 61 61 64 57 58 57 52 53 74 74 76 66 64 77 87 94 127 102 60 62 66 70 68 72 89 107 108 92 97 66 71 89 99 102 94 95 99 96 94 95 87 83 80 75 71 68 61 60 61 65 68 74 76 80 90 92 93 89 83 74 65 78 92 98 124 91 58 67 69 65 69 71 70 74 90 78 103 73 65 92 99 106 101 92 92 92 92 89 82 84 65 66 56 60 60 69 75 74 79 82 90 96 95 87 82 73 63 62 70 77 87 98 120 83 60 67 74 75 76 92 96 74 70 54 103 88 57 82 91 93 91 90 84 88 90 86 87 80 65 61 58 55 58 60 63 61 58 55 49 55 60 60 74 95 99 108 102 95 87 99 118 62 54 68 73 75 76 83 82 102 117 24 90 102 62 74 88 84 83 98 89 88 90 93 93 83 68 59 50 50 54 51 54 63 72 81 88 90 99 116 125 126 115 105 98 97 85 104 104 43 55 55 61 81 74 83 85 73 92 42 77 102 76 61 84 82 85 92 86 91 95 94 100 97 74 59 67 75 90 97 94 101 112 116 115 112 107 100 110 116 117 106 89 89 84 103 77 42 63 64 67 65 82 78 75 84 74 68 91 95 88 58 72 78 82 79 79 89 91 89 94 102 82 73 81 89 92 92 88 94 100 98 79 61 61 58 76 95 103 101 84 78 84 90 47 28 58 66 55 58 76 93 91 83 77 80 74 72 83 66 57 75 71 77 76 80 86 88 90 93 71 66 80 95 90 86 89 83 75 69 56 48 47 47 72 89 94 91 81 82 81 78 34 12 37 50 62 53 82 86 91 92 88 64 34 74 88 85 50 62 70 65 70 73 80 79 83 83 65 64 70 84 87 85 83 76 75 73 72 78 85 91 103 109 104 94 80 79 85 69 17 22 45 47 59 66 67 78 96 90 59 72 59 57 87 82 60 42 70 73 68 65 70 72 72 78 63 55 74 82 91 96 93 103 103 105 111 119 115 118 118 115 106 96 93 74 87 48 8 49 58 60 64 81 87 74 95 99 76 100 75 64 80 75 73 45 47 66 68 62 68 74 78 71 58 63 66 77 91 95 97 100 96 106 111 118 117 115 108 110 99 92 87 73 81 25 5 43 53 58 60 77 91 84 88 116 100 78 101 80 67 82 66 53 35 42 63 67 75 77 78 66 50 57 60 74 80 90 90 80 82 97 101 104 114 112 105 98 90 88 85 81 54 3 24 29 40 50 57 68 72 87 84 109 110 98 79 62 86 71 53 48 47 35 43 57 68 77 67 73 66 47 53 57 63 82 84 73 72 81 89 94 100 95 92 89 82 87 86 67 30 50 54 32 36 55 55 79 76 72 92 85 107 102 66 86 86 51 51 42 49 42 28 44 64 74 73 73 74 65 55 51 47 64 70 65 65 69 79 87 81 82 77 75 72 79 71 50 83 89 62 32 33 55 46 73 87 64 90 90 123 104 92 73 73 57 49 39 44 48 39 29 48 63 74 75 69 73 64 54 45 52 54 65 67 61 68 67 71 69 69 58 58 62 50 89 107 92 68 32 30 54 47 57 72 78 83 102 121                                                                                                                                                                                                                                                                                                                                                                                                                                                                                                                                                                                                                                                                                                                                                                                                                                                                                                                                                                                                                                                                                                                                                                                                                                                                                                                                             12\n",
              "30 28 28 29 31 30 42 68 79 81 77 67 67 71 63 61 78 108 142 147 123 113 111 107 113 125 136 145 137 118 101 85 64 59 71 83 85 81 96 109 102 94 84 80 71 60 50 44 30 27 28 29 32 30 51 72 73 76 68 63 58 49 39 38 58 73 71 105 124 112 104 108 113 124 132 141 131 115 94 77 66 79 90 88 96 113 120 111 91 78 76 75 72 64 52 40 31 28 30 33 33 32 63 78 77 80 68 38 33 38 83 39 61 75 39 47 98 118 102 102 116 126 139 147 129 106 89 76 81 92 87 95 102 93 82 66 56 53 59 63 65 61 54 37 30 30 32 38 33 35 75 84 95 98 85 84 75 66 75 56 48 34 54 70 70 117 106 98 117 126 142 146 128 101 82 73 78 92 96 83 62 48 49 51 46 50 48 46 56 57 56 36 31 30 31 36 32 45 83 90 106 112 108 108 121 126 102 98 106 96 98 92 56 104 107 104 113 132 146 150 128 103 82 67 94 101 77 46 32 64 93 30 33 36 48 47 46 51 55 38 30 28 34 45 39 58 84 95 113 121 128 117 111 118 119 122 112 120 123 117 98 110 119 112 120 137 153 150 122 99 75 72 108 88 56 85 49 37 49 31 56 42 31 42 42 50 56 37 31 29 32 54 49 67 87 100 118 127 140 148 141 126 112 105 103 101 105 115 132 132 125 120 131 148 162 158 127 96 71 90 105 70 78 100 65 47 44 41 64 49 36 37 46 52 59 36 31 29 30 56 64 72 90 106 119 131 143 154 157 151 145 140 140 141 141 145 135 126 124 125 138 152 160 156 133 100 87 101 105 95 95 96 88 78 61 54 54 65 64 55 55 63 63 35 32 29 27 52 82 76 93 109 120 132 144 158 160 158 157 157 157 160 161 155 141 131 127 132 141 151 160 152 132 108 102 114 110 104 87 78 75 74 69 71 75 70 71 79 75 70 65 37 31 31 27 45 84 78 97 108 115 131 145 156 163 167 166 165 162 163 162 154 141 136 133 137 147 154 159 153 133 115 107 124 122 122 114 104 87 77 76 76 77 85 90 87 79 70 63 36 32 31 28 40 63 76 98 112 122 132 147 157 160 169 171 171 172 169 161 148 140 136 135 137 152 158 162 154 133 121 117 126 134 137 140 138 124 119 120 119 124 124 111 98 84 73 62 38 31 30 30 36 52 69 100 114 130 138 155 165 170 177 180 179 176 170 159 148 140 139 144 140 145 158 160 155 140 128 120 122 136 148 153 152 145 140 142 142 144 134 117 102 87 74 59 46 30 30 30 49 61 69 99 110 127 144 157 165 177 184 184 179 173 170 164 150 137 136 149 158 152 156 159 155 146 131 121 122 134 146 161 163 160 155 151 147 145 128 109 98 83 72 65 40 32 27 41 162 141 77 99 112 123 146 157 168 175 180 183 180 177 170 153 140 136 137 156 166 165 159 159 159 150 127 118 126 138 144 159 169 169 163 164 157 141 125 106 90 83 76 60 31 31 29 31 74 78 69 101 109 116 143 156 167 169 171 175 175 171 156 155 157 144 148 165 170 169 166 164 163 155 136 119 122 139 153 156 168 175 171 167 157 139 120 105 91 84 77 44 33 31 29 29 27 35 64 99 109 110 136 151 156 163 167 170 167 145 147 179 173 156 158 175 178 177 176 173 169 160 146 131 126 125 150 159 168 175 170 163 157 141 117 95 90 87 70 35 37 30 28 29 33 25 61 101 112 113 133 147 152 159 161 163 154 115 108 129 171 169 162 176 186 189 189 187 181 166 153 146 154 154 140 155 166 174 168 161 153 138 118 101 92 88 59 35 33 31 29 28 31 28 58 101 112 119 129 142 146 147 152 148 131 105 83 73 90 126 137 147 168 177 180 181 179 163 149 157 165 150 126 141 162 168 165 158 141 127 114 106 92 79 46 39 36 33 30 28 32 27 53 98 109 114 122 134 135 137 144 131 107 114 108 94 79 71 97 121 139 156 156 151 138 124 122 121 96 77 96 131 149 155 155 148 136 113 109 101 86 87 55 40 39 33 31 29 31 27 46 94 107 111 118 125 128 131 127 105 108 135 141 130 116 96 81 97 121 130 126 112 91 71 58 51 53 69 99 127 138 143 144 140 130 115 108 97 78 106 82 32 36 34 31 27 31 29 37 86 106 112 116 119 120 118 102 94 123 143 149 146 139 124 104 81 80 84 82 75 62 64 73 84 94 107 114 114 128 135 133 127 119 114 100 91 79 123 51 34 34 33 30 27 29 32 31 76 102 109 116 120 117 109 98 117 135 144 152 153 151 146 137 120 85 70 70 78 100 110 120 124 129 125 107 108 118 123 121 117 108 104 92 80 74 97 45 35 35 32 30 27 29 33 27 63 99 106 113 117 121 110 105 117 136 144 155 156 154 154 160 166 158 143 139 147 146 136 134 133 125 114 94 89 104 113 113 108 96 90 83 77 57 27 34 36 35 33 30 26 28 29 28 44 90 104 114 121 123 115 89 92 126 143 158 159 157 155 161 171 173 166 166 166 152 139 133 126 118 107 89 65 81 102 101 97 88 81 78 70 40 36 36 35 33 32 30 28 29 30 29 30 77 98 110 121 127 114 102 79 61 101 122 135 143 153 158 168 179 173 170 164 142 130 128 124 117 103 87 72 65 88 93 89 80 77 74 56 32 37 36 34 32 35 32 27 27 28 29 26 53 92 106 115 128 118 120 139 99 113 158 122 121 117 126 138 156 157 148 146 127 116 118 115 113 94 77 72 72 82 84 77 78 77 68 40 28 33 34 35 32 34 32 29 29 26 29 28 32 77 101 112 122 125 132 148 149 143 189 199 195 153 156 135 104 103 111 93 97 88 84 73 60 51 56 66 84 89 84 74 74 76 55 29 32 31 32 35 32 33 32 27 29 28 28 29 27 51 90 104 115 124 141 151 147 149 163 181 210 218 222 208 169 180 185 150 161 143 111 68 68 81 94 79 96 94 82 80 75 66 34 30 31 30 35 34 34 33 32 27 29 27 27 28 28 36 78 97 105 120 136 148 150 151 156 158 166 189 215 219 218 223 216 209 190 161 123 100 106 122 120 94 103 95 84 77 72 42 25 32 30 30 38 34 32 32 30 27 27 29 28 28 27 38 65 86 99 110 125 137 146 147 152 165 170 158 157 167 171 178 177 156 142 133 121 105 111 128 122 101 99 86 81 72 49 28 27 36 34 31 39 34 29 30 29 28 27 29 27 28 28 42 68 77 93 102 117 126 134 140 138 132 157 182 177 165 160 165 170 166 154 137 118 113 114 124 118 100 83 76 69 48 28 27 27 33 35 36 40 32 29 29 27 28 29 29 28 29 27 49 76 76 86 102 113 125 122 127 137 127 117 130 155 168 168 170 162 144 130 121 117 108 109 113 107 85 69 62 47 28 27 28 27 33 35 40 41 34 31 29 28 28 27 28 27 28 39 63 81 84 79 95 115 129 125 110 117 121 114 104 98 102 109 109 101 102 111 111 101 91 99 99 84 68 56 41 29 26 27 29 28 34 34 37 39 33 32 29 28 27 27 28 32 44 56 71 86 93 80 82 109 131 140 120 106 96 102 105 98 95 98 97 98 100 94 83 80 87 91 79 69 53 36 30 28 26 28 31 29 31 33 37 39 32 31 28 26 30 35 46 57 62 67 78 90 97 92 77 96 124 143 145 131 113 97 89 82 80 78 82 81 79 73 71 89 96 82 68 54 35 26 29 28 26 28 31 28 29 32 37 38 32 32 39 47 56 65 74 74 72 76 86 92 99 100 85 76 110 136 146 152 148 139 125 114 105 97 96 91 90 91 103 110 92 72 53 30 25 29 30 27 27 27 31 27 30 34 38 39 32 33 63 72 81 89 85 81 80 87 91 97 98 98 92 80 90 119 135 143 147 152 151 144 143 137 135 135 131 126 125 108 77 51 28 26 26 31 29 26 27 27 31 27 28 35 37 35 31 31 78 86 95 97 91 84 88 94 97 103 101 101 93 89 82 92 119 129 136 143 143 140 143 144 145 144 137 128 110 84 52 26 27 27 27 33 27 27 27 28 32 28 29 36 35 35 32 31 86 95 101 99 94 92 95 97 100 109 102 104 99 92 89 77 85 104 112 119 121 121 129 129 128 124 112 100 76 53 32 25 26 27 30 34 27 27 28 31 30 27 32 37 35 37 33 33 95 103 101 97 98 95 99 104 104 110 108 106 102 92 89 83 66 69 76 85 86 92 100 99 98 91 80 66 47 35 31 25 26 29 35 33 26 27 28 30 30 28 33 40 35 34 33 34 98 104 100 98 102 98 104 112 109 111 111 107 103 97 86 82 77 65 53 56 66 76 72 66 58 50 45 39 36 37 32 26 26 30 36 31 27 28 26 27 28 27 33 39 37 36 31 31 99 99 97 103 106 107 113 114 113 114 116 114 108 101 93 83 78 70 60 51 46 45 42 39 39 42 40 39 40 41 35 27 26 32 36 29 27 29 27 28 29 27 33 39 37 35 31 31 101 98 101 107 105 110 116 115 117 114 114 114 107 102 96 88 79 71 60 54 49 45 45 45 44 45 43 43 45 44 35 27 26 32 34 28 26 26 27 27 28 26 32 37 34 35 30 30 103 102 106 109 105 114 117 121 122 119 111 110 104 102 99 91 84 77 66 58 54 50 51 53 52 50 49 47 49 44 37 29 26 34 34 27 26 28 29 28 28 26 31 37 34 35 30 30 104 107 107 111 110 114 118 124 128 126 116 115 107 99 96 95 89 82 76 70 64 62 61 60 58 52 52 52 52 50 40 32 26 35 32 28 26 27 30 27 27 27 29 35 35 34 30 31 104 109 110 108 112 114 117 126 132 133 119 117 116 97 92 89 85 84 80 78 72 71 74 67 56 57 60 57 59 55 44 35 28 38 31 28 26 26 30 27 27 26 26 34 35 35 30 30 102 105 108 107 108 113 116 124 132 136 124 119 117 103 96 91 89 84 82 79 81 81 78 65 61 68 68 62 63 56 45 37 30 38 32 27 27 27 32 27 27 26 28 35 35 35 31 29 93 96 100 101 104 109 117 120 134 137 129 123 122 106 97 92 91 90 87 84 89 91 79 64 70 74 73 69 65 56 47 36 30 35 33 29 28 29 30 27 27 26 28 35 35 35 30 28                                                                                                                                                                                                                                                                                                                                                                                                                                                                                                                                                                                                                                                                                                                                                                                                                                                                                                                                                                                                                                            12\n",
              "Name: pixels, Length: 34034, dtype: int64"
            ]
          },
          "metadata": {},
          "execution_count": 21
        }
      ]
    },
    {
      "cell_type": "markdown",
      "source": [
        "### Data Visualization"
      ],
      "metadata": {
        "id": "G3oJKrgy-D8z"
      }
    },
    {
      "cell_type": "code",
      "source": [
        "fig = plt.figure(1,(5,5))\n",
        "#Expression label\n",
        "label = 1\n",
        "\n",
        "img = np.array(df[df.emotion == label].pixels.iloc[0].split(' ')).reshape(48,48).astype('float32')\n",
        "imgplot = plt.imshow(img, cmap='gray')\n",
        "plt.title(expression_map[label])\n",
        "plt.tight_layout()"
      ],
      "metadata": {
        "colab": {
          "base_uri": "https://localhost:8080/",
          "height": 365
        },
        "id": "d8GQVhgw98sj",
        "outputId": "6994400f-15ae-42d2-f688-4d70fc23de23"
      },
      "execution_count": null,
      "outputs": [
        {
          "output_type": "display_data",
          "data": {
            "text/plain": [
              "<Figure size 360x360 with 1 Axes>"
            ],
            "image/png": "[encoded data removed]"
          },
          "metadata": {}
        }
      ]
    },
    {
      "cell_type": "code",
      "source": [
        "np.array(df[df.emotion == label].pixels.iloc[0].split(' ')).dtype"
      ],
      "metadata": {
        "colab": {
          "base_uri": "https://localhost:8080/"
        },
        "id": "HLGrABG5Eso2",
        "outputId": "4622470b-5d84-487b-8709-5897185efcf6"
      },
      "execution_count": null,
      "outputs": [
        {
          "output_type": "execute_result",
          "data": {
            "text/plain": [
              "dtype('<U3')"
            ]
          },
          "metadata": {},
          "execution_count": 35
        }
      ]
    },
    {
      "cell_type": "code",
      "source": [
        "x_data = np.array(list(x_data.split(' ')), np.float32)\n",
        "x_data /= 255"
      ],
      "metadata": {
        "colab": {
          "base_uri": "https://localhost:8080/",
          "height": 305
        },
        "id": "ablk3rx_iGg9",
        "outputId": "3fbc7052-edcb-4b18-9712-d865dbedf1a9"
      },
      "execution_count": null,
      "outputs": [
        {
          "output_type": "error",
          "ename": "AttributeError",
          "evalue": "ignored",
          "traceback": [
            "\u001b[0;31m---------------------------------------------------------------------------\u001b[0m",
            "\u001b[0;31mAttributeError\u001b[0m                            Traceback (most recent call last)",
            "\u001b[0;32m<ipython-input-38-ea7429c1040a>\u001b[0m in \u001b[0;36m<module>\u001b[0;34m()\u001b[0m\n\u001b[0;32m----> 1\u001b[0;31m \u001b[0mx_data\u001b[0m \u001b[0;34m=\u001b[0m \u001b[0mnp\u001b[0m\u001b[0;34m.\u001b[0m\u001b[0marray\u001b[0m\u001b[0;34m(\u001b[0m\u001b[0mlist\u001b[0m\u001b[0;34m(\u001b[0m\u001b[0mx_data\u001b[0m\u001b[0;34m.\u001b[0m\u001b[0msplit\u001b[0m\u001b[0;34m(\u001b[0m\u001b[0;34m' '\u001b[0m\u001b[0;34m)\u001b[0m\u001b[0;34m)\u001b[0m\u001b[0;34m,\u001b[0m \u001b[0mnp\u001b[0m\u001b[0;34m.\u001b[0m\u001b[0mfloat32\u001b[0m\u001b[0;34m)\u001b[0m\u001b[0;34m\u001b[0m\u001b[0;34m\u001b[0m\u001b[0m\n\u001b[0m\u001b[1;32m      2\u001b[0m \u001b[0mx_data\u001b[0m \u001b[0;34m/=\u001b[0m \u001b[0;36m255\u001b[0m\u001b[0;34m\u001b[0m\u001b[0;34m\u001b[0m\u001b[0m\n",
            "\u001b[0;32m/usr/local/lib/python3.7/dist-packages/pandas/core/generic.py\u001b[0m in \u001b[0;36m__getattr__\u001b[0;34m(self, name)\u001b[0m\n\u001b[1;32m   5485\u001b[0m         ):\n\u001b[1;32m   5486\u001b[0m             \u001b[0;32mreturn\u001b[0m \u001b[0mself\u001b[0m\u001b[0;34m[\u001b[0m\u001b[0mname\u001b[0m\u001b[0;34m]\u001b[0m\u001b[0;34m\u001b[0m\u001b[0;34m\u001b[0m\u001b[0m\n\u001b[0;32m-> 5487\u001b[0;31m         \u001b[0;32mreturn\u001b[0m \u001b[0mobject\u001b[0m\u001b[0;34m.\u001b[0m\u001b[0m__getattribute__\u001b[0m\u001b[0;34m(\u001b[0m\u001b[0mself\u001b[0m\u001b[0;34m,\u001b[0m \u001b[0mname\u001b[0m\u001b[0;34m)\u001b[0m\u001b[0;34m\u001b[0m\u001b[0;34m\u001b[0m\u001b[0m\n\u001b[0m\u001b[1;32m   5488\u001b[0m \u001b[0;34m\u001b[0m\u001b[0m\n\u001b[1;32m   5489\u001b[0m     \u001b[0;32mdef\u001b[0m \u001b[0m__setattr__\u001b[0m\u001b[0;34m(\u001b[0m\u001b[0mself\u001b[0m\u001b[0;34m,\u001b[0m \u001b[0mname\u001b[0m\u001b[0;34m:\u001b[0m \u001b[0mstr\u001b[0m\u001b[0;34m,\u001b[0m \u001b[0mvalue\u001b[0m\u001b[0;34m)\u001b[0m \u001b[0;34m->\u001b[0m \u001b[0;32mNone\u001b[0m\u001b[0;34m:\u001b[0m\u001b[0;34m\u001b[0m\u001b[0;34m\u001b[0m\u001b[0m\n",
            "\u001b[0;31mAttributeError\u001b[0m: 'Series' object has no attribute 'split'"
          ]
        }
      ]
    },
    {
      "cell_type": "code",
      "source": [
        "# converting pixels to 2304 float numpy arrays\n",
        "\n",
        "X = df.pixels.apply(lambda x: np.array(x.split(' ')).astype('float32'))\n",
        "X = np.stack(X, axis=0)\n",
        "Y = np.array(df['emotion'])"
      ],
      "metadata": {
        "id": "dm-nlKmNFXac"
      },
      "execution_count": null,
      "outputs": []
    },
    {
      "cell_type": "markdown",
      "source": [
        "## Data Preprocessing"
      ],
      "metadata": {
        "id": "tmmsP1AtWR9v"
      }
    },
    {
      "cell_type": "markdown",
      "source": [
        "Cascade Object Detection"
      ],
      "metadata": {
        "id": "Y1XEphZlWeLf"
      }
    },
    {
      "cell_type": "code",
      "source": [
        "import cv2\n",
        "face_cascade = cv2.CascadeClassifier(cv2.data.haarcascades + 'haarcascade_frontalface_default.xml')\n",
        "eye_cascade = cv2.CascadeClassifier(cv2.data.haarcascades + 'haarcascade_eye.xml')"
      ],
      "metadata": {
        "id": "HjD0K2LPWVUl"
      },
      "execution_count": null,
      "outputs": []
    },
    {
      "cell_type": "markdown",
      "source": [
        "Face Alignment"
      ],
      "metadata": {
        "id": "e5e5dhYpX7W7"
      }
    },
    {
      "cell_type": "code",
      "source": [
        "def face_align(gray) :\n",
        "  sz = gray.shape\n",
        "\n",
        "  # Creating variable eyes\n",
        "  # detectMultiscale - Detects objects of different sizes in the input image. \n",
        "  # The detected objects are returned as a list of rectangles.Rect(x,y,w,h)\n",
        "  eyes = eye_cascade.detectMultiScale(gray, 1.3, 5)\n",
        "  # scaleFactor - Parameter that specifies how much the image size is reduced at each image scale : 1.3\n",
        "  # minNeighbors - Parameter specifying how many neighbors each candidate rectangle should have to retain it : 5\n",
        "  if len(eyes) > 1:\n",
        "    index = 0\n",
        "    #Creating loop to divide one eye from another\n",
        "    for (ex, ey, ew, eh) in eyes :\n",
        "      # For eyes, the position of detected eye are as a rectangle with left up corner (x,y) having w-width, h-height \n",
        "      if index == 0 :\n",
        "        eye1 = (ex, ey, ew, eh)\n",
        "      elif index == 1:\n",
        "        eye2 = (ex, ey, ew, eh)\n",
        "      index += 1\n",
        "    if eye1[0] < eye2[0] : # the x coordinate of left up corner is less, it is left_eye\n",
        "      left_eye = eye1\n",
        "      right_eye = eye2\n",
        "    else :\n",
        "      left_eye = eye2\n",
        "      right_eye = eye1\n",
        "    \n",
        "    #Calculating coordinates of central points of the rectangles\n",
        "    left_eye_center = ((left_eye[0]+left_eye[2])/2 , (left_eye[1]+left_eye[3])/2)\n",
        "    left_eye_x = left_eye_center[0]\n",
        "    left_eye_y = left_eye_center[1] \n",
        "    right_eye_center = ((right_eye[0]+right_eye[2])/2 , (right_eye[1]+right_eye[3])/2)\n",
        "    right_eye_x = right_eye_center[0]\n",
        "    right_eye_y = right_eye_center[1]\n",
        "    \n",
        "    delta_x = right_eye_x - left_eye_x\n",
        "    delta_y = right_eye_y - left_eye_y\n",
        "    angle = np.arctan(delta_y/delta_x)\n",
        "    angle = angle * 180/np.pi\n",
        "\n",
        "    #Extracting height and width from the image shape\n",
        "    h, w = gray.shape[:2]\n",
        "    #Calculating a center point of the image\n",
        "    #Integer division // ensures that we get only whole numbers\n",
        "    center = (w//2, h//2)\n",
        "    # This function makes a transformation matrix which will be used for rotation of the image\n",
        "    M = cv2.getRotationMatrix2D(center, angle, scale=1) \n",
        "    # Rotating the image using cv2.warpAffine method\n",
        "    gray = cv2.warpAffine(gray, M, (w, h))\n",
        "\n",
        "    #Again detecting the face\n",
        "    faces = face_cascade.detectMultiScale(gray, 1.3, 5)\n",
        "    if len(faces) > 0:\n",
        "      (x,y,w,h) = faces[0]\n",
        "      gray = gray[y:y+h, x:x+w]\n",
        "\n",
        "  cv2.resize(gray, sz) #resizing is scaling of images helps in reducing the no.of pixels and can reduce the time of training of neural network\n",
        "  return gray"
      ],
      "metadata": {
        "id": "e4MoS5j2ZnTW"
      },
      "execution_count": null,
      "outputs": []
    },
    {
      "cell_type": "code",
      "source": [
        "X_new = []\n",
        "for j in range(X.shape[0]) :\n",
        "  px = np.array(X[j]).reshape(48,48)\n",
        "  px = np.array(px, dtype = 'uint8')\n",
        "  px_new = face_align(px)\n",
        "  X_new.append(np.array(px_new).reshape(48*48))\n",
        "X = np.array(X_new)"
      ],
      "metadata": {
        "id": "NqikXfSBN3Vw"
      },
      "execution_count": null,
      "outputs": []
    },
    {
      "cell_type": "markdown",
      "source": [
        "## Train and Test split for KNN and SVM"
      ],
      "metadata": {
        "id": "jr-dhh5zUzWw"
      }
    },
    {
      "cell_type": "code",
      "source": [
        "X_train, X_valid, y_train, y_valid = train_test_split(X, Y, shuffle=True, stratify=Y, test_size=0.2, random_state=2)\n",
        "X_train.shape, X_valid.shape, y_train.shape, y_valid.shape"
      ],
      "metadata": {
        "colab": {
          "base_uri": "https://localhost:8080/"
        },
        "id": "QCniYxePUuL5",
        "outputId": "bad4c0ce-69ea-487b-b82d-392c30911688"
      },
      "execution_count": null,
      "outputs": [
        {
          "output_type": "execute_result",
          "data": {
            "text/plain": [
              "((28709, 2304), (7178, 2304), (28709,), (7178,))"
            ]
          },
          "metadata": {},
          "execution_count": 28
        }
      ]
    },
    {
      "cell_type": "markdown",
      "source": [
        "### PCA to retain 95% variation and reduce dataset size"
      ],
      "metadata": {
        "id": "Gi3E6xqNX32s"
      }
    },
    {
      "cell_type": "code",
      "source": [
        "scaler = StandardScaler()\n",
        "X_train = scaler.fit_transform(X_train.astype(np.float32))\n",
        "X_valid = scaler.transform(X_valid.astype(np.float32))\n",
        "#95% of variance\n",
        "pca = PCA(n_components = 0.95)\n",
        "pca.fit(X_train)\n",
        "X_test_p = pca.transform(X_valid)\n",
        "X_train_p = pca.transform(X_train)\n",
        "X_train_p = scaler.fit_transform(X_train_p.astype(np.float32))\n",
        "X_test_p = scaler.transform(X_test_p.astype(np.float32))\n",
        "X_train_p.shape, X_test_p.shape"
      ],
      "metadata": {
        "colab": {
          "base_uri": "https://localhost:8080/"
        },
        "id": "gsfI5YrjXpnw",
        "outputId": "9eec5de2-92d5-4e39-c50d-d2a624ee3cc8"
      },
      "execution_count": null,
      "outputs": [
        {
          "output_type": "execute_result",
          "data": {
            "text/plain": [
              "((28709, 269), (7178, 269))"
            ]
          },
          "metadata": {},
          "execution_count": 31
        }
      ]
    },
    {
      "cell_type": "markdown",
      "source": [
        "### SVM -- Using Linear Kernel"
      ],
      "metadata": {
        "id": "XboQnfEIb2d1"
      }
    },
    {
      "cell_type": "code",
      "source": [
        "model = SVC(kernel='linear')\n",
        "model.fit(X_train_p, y_train)\n",
        "model.score(X_test_p, y_valid)"
      ],
      "metadata": {
        "id": "bt_WUqr-bvYM"
      },
      "execution_count": null,
      "outputs": []
    },
    {
      "cell_type": "markdown",
      "source": [
        "### SVM -- Using rbf kernel"
      ],
      "metadata": {
        "id": "yiAOOuz2crUp"
      }
    },
    {
      "cell_type": "code",
      "source": [
        "model = SVC(kernel='rbf')\n",
        "model.fit(X_train_p, y_train)\n",
        "model.score(X_test_p, y_valid)"
      ],
      "metadata": {
        "colab": {
          "base_uri": "https://localhost:8080/"
        },
        "id": "lS51qh6xcnuT",
        "outputId": "00e7def3-f45f-42e5-d22a-0b1b37724ccc"
      },
      "execution_count": null,
      "outputs": [
        {
          "output_type": "execute_result",
          "data": {
            "text/plain": [
              "0.46140986347171914"
            ]
          },
          "metadata": {},
          "execution_count": 32
        }
      ]
    },
    {
      "cell_type": "markdown",
      "source": [
        "### KNN"
      ],
      "metadata": {
        "id": "nHveAdw0deb9"
      }
    },
    {
      "cell_type": "markdown",
      "source": [
        "neighbors = 1"
      ],
      "metadata": {
        "id": "3F1IbJRPdkKI"
      }
    },
    {
      "cell_type": "code",
      "source": [
        "from sklearn.neighbors import KNeighborsClassifier\n",
        "classifier = KNeighborsClassifier(n_neighbors=1)\n",
        "classifier.fit(X_train, y_train)0.3496795764837002\n",
        "classifier.score(X_valid, y_valid)"
      ],
      "metadata": {
        "colab": {
          "base_uri": "https://localhost:8080/"
        },
        "id": "OtK7xeBmddvQ",
        "outputId": "1f95d76f-a045-465d-c8ff-4c23986b2cbf"
      },
      "execution_count": null,
      "outputs": [
        {
          "output_type": "execute_result",
          "data": {
            "text/plain": [
              "0.406241292839231"
            ]
          },
          "metadata": {},
          "execution_count": 41
        }
      ]
    },
    {
      "cell_type": "code",
      "source": [
        "import time\n",
        "start_time = time.time()\n",
        "y_pred = classifier.predict(X_valid)\n",
        "print('Time taken : %s seconds' % (time.time() - start_time))"
      ],
      "metadata": {
        "colab": {
          "base_uri": "https://localhost:8080/"
        },
        "id": "_bM6i3R3m4PC",
        "outputId": "328129f0-4eac-45d2-b5c8-8884509f3e38"
      },
      "execution_count": null,
      "outputs": [
        {
          "output_type": "stream",
          "name": "stdout",
          "text": [
            "Time taken : 45.676557779312134 seconds\n"
          ]
        }
      ]
    },
    {
      "cell_type": "code",
      "source": [
        "cnt = 0\n",
        "for i in range(X_valid.shape[0]) :\n",
        "  cnt += y_pred[i] == y_valid[i] \n",
        "print(\"Accuracy\", cnt/X_valid.shape[0] *100, '%')\n"
      ],
      "metadata": {
        "colab": {
          "base_uri": "https://localhost:8080/"
        },
        "id": "d5jvGaRvnhqY",
        "outputId": "3215b73b-5608-4015-8c5e-fcedd8fb5ef4"
      },
      "execution_count": null,
      "outputs": [
        {
          "output_type": "stream",
          "name": "stdout",
          "text": [
            "Accuracy 40.6241292839231 %\n"
          ]
        }
      ]
    },
    {
      "cell_type": "code",
      "source": [
        "knn = KNeighborsClassifier() #using default parameters\n",
        "knn.fit(X_train, y_train)\n",
        "knn.score(X_valid, y_valid)"
      ],
      "metadata": {
        "colab": {
          "base_uri": "https://localhost:8080/"
        },
        "id": "rihl5DWzeukC",
        "outputId": "bfa51cb5-6de8-412c-96ce-a642c1888a92"
      },
      "execution_count": null,
      "outputs": [
        {
          "output_type": "execute_result",
          "data": {
            "text/plain": [
              "0.34800780161604905"
            ]
          },
          "metadata": {},
          "execution_count": 40
        }
      ]
    },
    {
      "cell_type": "code",
      "source": [
        "# Knn with n_neigbors = 3\n",
        "classifier = KNeighborsClassifier(n_neighbors = 3)\n",
        "classifier.fit(X_train, y_train)\n",
        "classifier.score(X_valid, y_valid)"
      ],
      "metadata": {
        "colab": {
          "base_uri": "https://localhost:8080/"
        },
        "id": "tiAb0PLxhDZI",
        "outputId": "9e8a4044-0e86-442d-cf2f-61b82589e781"
      },
      "execution_count": null,
      "outputs": [
        {
          "output_type": "execute_result",
          "data": {
            "text/plain": [
              "0.3496795764837002"
            ]
          },
          "metadata": {},
          "execution_count": 39
        }
      ]
    },
    {
      "cell_type": "markdown",
      "source": [
        "**ML Algorithms Comparison**"
      ],
      "metadata": {
        "id": "NYhH_gODiRoB"
      }
    },
    {
      "cell_type": "code",
      "source": [
        "\n",
        "svm_rbf_ker = 0.46140986347171914\n",
        "knn_1 = 0.406241292839231\n",
        "knn_def = 0.34800780161604905\n",
        "knn_3 = 0.3496795764837002\n",
        "\n",
        "import matplotlib.pyplot as plt\n",
        "fig = plt.figure()\n",
        "ax = fig.add_axes([0,0,1,1])\n",
        "algorithm = ['svm_lin', 'svm_rbf_ker', 'knn_1', 'knn_def', 'knn_3']\n",
        "accuracy = [svm_lin, svm_rbf_ker, knn_1, knn_def, knn_3]\n",
        "ax.bar(algorithm, accuracy)\n",
        "plt.show()"
      ],
      "metadata": {
        "colab": {
          "base_uri": "https://localhost:8080/",
          "height": 337
        },
        "id": "Kk6aHAQ8iHof",
        "outputId": "64f17dd1-624d-44b3-e126-f0592889e619"
      },
      "execution_count": null,
      "outputs": [
        {
          "output_type": "display_data",
          "data": {
            "image/png": "[encoded data removed]",
            "text/plain": [
              "<Figure size 432x288 with 1 Axes>"
            ]
          },
          "metadata": {
            "needs_background": "light"
          }
        }
      ]
    }
  ]
}