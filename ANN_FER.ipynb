{
  "nbformat": 4,
  "nbformat_minor": 0,
  "metadata": {
    "colab": {
      "name": "ANN_FER.ipynb",
      "provenance": [],
      "collapsed_sections": [],
      "authorship_tag": "ABX9TyPstmfMzhyQdXgjP8zzdsA0",
      "include_colab_link": true
    },
    "kernelspec": {
      "name": "python3",
      "display_name": "Python 3"
    },
    "language_info": {
      "name": "python"
    }
  },
  "cells": [
    {
      "cell_type": "markdown",
      "metadata": {
        "id": "view-in-github",
        "colab_type": "text"
      },
      "source": [
        "<a href=\"https://colab.research.google.com/github/Anusha5824/Face-Emotion-Detection/blob/main/ANN_FER.ipynb\" target=\"_parent\"><img src=\"https://colab.research.google.com/assets/colab-badge.svg\" alt=\"Open In Colab\"/></a>"
      ]
    },
    {
      "cell_type": "code",
      "execution_count": null,
      "metadata": {
        "id": "sUGqCTnA2lsl"
      },
      "outputs": [],
      "source": [
        "import numpy as np\n",
        "import pandas as pd\n",
        "import tensorflow as tf\n",
        "import seaborn as sns\n",
        "from tensorflow import keras\n",
        "import matplotlib.pyplot as plt\n",
        "from sklearn.model_selection import train_test_split\n",
        "from sklearn.metrics import classification_report\n",
        "from imblearn.over_sampling import RandomOverSampler #Imbalanced learning provides tools to deal with classification of imbalanced classes\n",
        "from keras.layers import Conv2D, MaxPool2D, AveragePooling2D, Input, BatchNormalization, MaxPooling2D, Activation, Flatten, Dense, Dropout\n",
        "from keras.models import Sequential \n",
        "from keras.utils import np_utils\n",
        "from keras.preprocessing import image\n",
        "import scipy\n",
        "import cv2"
      ]
    },
    {
      "cell_type": "code",
      "source": [
        "from google.colab import drive\n",
        "drive.mount('/content/drive')\n",
        "df = pd.read_csv('/content/drive/MyDrive/NNDL/fer2013.csv')\n",
        "df.shape"
      ],
      "metadata": {
        "id": "KmBXQT_N3B2N",
        "colab": {
          "base_uri": "https://localhost:8080/"
        },
        "outputId": "c843dbcd-6b70-44b2-fa18-a06082b778a8"
      },
      "execution_count": null,
      "outputs": [
        {
          "output_type": "stream",
          "name": "stdout",
          "text": [
            "Mounted at /content/drive\n"
          ]
        },
        {
          "output_type": "execute_result",
          "data": {
            "text/plain": [
              "(35887, 3)"
            ]
          },
          "metadata": {},
          "execution_count": 3
        }
      ]
    },
    {
      "cell_type": "code",
      "source": [
        "x_data = df['pixels']\n",
        "y_data = df['emotion']"
      ],
      "metadata": {
        "id": "6v4W2k7m4s2z"
      },
      "execution_count": null,
      "outputs": []
    },
    {
      "cell_type": "code",
      "source": [
        "oversampler = RandomOverSampler(sampling_strategy='auto') #Random Oversampling involves randomly selecting examples from\n",
        "# minority class with replacement, and adding them to the training dataset. \"Auto\"-does increase examples of every class less than majority class\n",
        "x_data, y_data = oversampler.fit_resample(x_data.values.reshape(-1,1), y_data)\n",
        "x_data.shape, y_data.shape"
      ],
      "metadata": {
        "id": "gY2YtyV0bvMa",
        "colab": {
          "base_uri": "https://localhost:8080/"
        },
        "outputId": "a44cfc33-da1b-48ea-8612-4af3f2d0516d"
      },
      "execution_count": null,
      "outputs": [
        {
          "output_type": "execute_result",
          "data": {
            "text/plain": [
              "((62923, 1), (62923,))"
            ]
          },
          "metadata": {},
          "execution_count": 5
        }
      ]
    },
    {
      "cell_type": "code",
      "source": [
        "x_data = pd.Series(x_data.flatten()) #df.flatten() converts the data format to narrow format to increase the computational speed\n",
        "#pd.Series contains a 1D single list with index \n",
        "x_data"
      ],
      "metadata": {
        "colab": {
          "base_uri": "https://localhost:8080/"
        },
        "id": "PXckEWcznxsV",
        "outputId": "b9db1352-37c8-4557-a01a-a600808250b9"
      },
      "execution_count": null,
      "outputs": [
        {
          "output_type": "execute_result",
          "data": {
            "text/plain": [
              "0        70 80 82 72 58 58 60 63 54 58 60 48 89 115 121...\n",
              "1        151 150 147 155 148 133 111 140 170 174 182 15...\n",
              "2        231 212 156 164 174 138 161 173 182 200 106 38...\n",
              "3        24 32 36 30 32 23 19 20 30 41 21 22 32 34 21 1...\n",
              "4        4 0 0 0 0 0 0 0 0 0 0 0 3 15 23 28 48 50 58 84...\n",
              "                               ...                        \n",
              "62918    145 134 124 127 142 151 140 116 83 74 106 103 ...\n",
              "62919    152 163 175 185 194 202 198 177 154 175 200 20...\n",
              "62920    0 0 0 0 0 0 0 0 0 0 0 0 0 0 0 0 0 0 0 1 3 3 6 ...\n",
              "62921    70 68 72 73 74 73 90 68 78 109 129 162 199 189...\n",
              "62922    34 30 37 54 78 112 148 182 194 197 202 204 204...\n",
              "Length: 62923, dtype: object"
            ]
          },
          "metadata": {},
          "execution_count": 6
        }
      ]
    },
    {
      "cell_type": "code",
      "source": [
        "# Normalization -- Normalization gives equal weights/importance to each variable so that \n",
        "# no single variable steers model performance in one direction just because they are bigger numbers. \n",
        "# In grayscale the pixels range from 0(black) to 255(white)\n",
        "\n",
        "x_data = np.array(list(map(str.split, x_data)), np.float32)\n",
        "x_data /= 255"
      ],
      "metadata": {
        "id": "9WWiHsDztBOf"
      },
      "execution_count": null,
      "outputs": []
    },
    {
      "cell_type": "code",
      "source": [
        "y_data = np.array(y_data)\n",
        "y_data = y_data.reshape(y_data.shape[0],1)\n",
        "y_data.shape"
      ],
      "metadata": {
        "colab": {
          "base_uri": "https://localhost:8080/"
        },
        "id": "0wAB4c3RvaHF",
        "outputId": "c8a4a4c6-c14c-4325-842e-5d3bd65251f3"
      },
      "execution_count": null,
      "outputs": [
        {
          "output_type": "execute_result",
          "data": {
            "text/plain": [
              "(62923, 1)"
            ]
          },
          "metadata": {},
          "execution_count": 8
        }
      ]
    },
    {
      "cell_type": "code",
      "source": [
        "x_train, x_test, y_train, y_test = train_test_split(x_data, y_data, test_size=0.1, random_state=45)\n",
        "x_train.shape, y_test.shape"
      ],
      "metadata": {
        "id": "jz5JLSPCxKKm",
        "colab": {
          "base_uri": "https://localhost:8080/"
        },
        "outputId": "8af9380e-9620-41e4-e2a6-cf484884bbca"
      },
      "execution_count": null,
      "outputs": [
        {
          "output_type": "execute_result",
          "data": {
            "text/plain": [
              "((56630, 2304), (6293, 1))"
            ]
          },
          "metadata": {},
          "execution_count": 9
        }
      ]
    },
    {
      "cell_type": "code",
      "source": [
        "# One hot encoding -- Converts a class vector(integers) to binary class matrix\n",
        "y_train = np_utils.to_categorical(y_train, num_classes = 7)\n",
        "y_test = np_utils.to_categorical(y_test, num_classes = 7)"
      ],
      "metadata": {
        "id": "S_xHhxtWkBgh"
      },
      "execution_count": null,
      "outputs": []
    },
    {
      "cell_type": "code",
      "source": [
        "model = keras.Sequential([ # A Sequential model is a linear stack of layers\n",
        "              Input(x_train.shape[1]),\n",
        "              Dense(2048, activation = 'relu'), # Relu function is used to avoid Vanishing Gradient problem (when >3 layers are used)\n",
        "              BatchNormalization(axis = 1), # Normalizes the data b/w intermediate layers by re-centering and re-scaling \n",
        "                                            # And speeds up the training process use higher learning rates making learning easier.\n",
        "              Dense(1024, activation = 'relu'),\n",
        "              BatchNormalization(axis = 1),\n",
        "              Dense(512, activation = 'relu'),\n",
        "              BatchNormalization(axis = 1),\n",
        "              Dense(256, activation = 'relu'),\n",
        "              BatchNormalization(axis = 1),\n",
        "              Dense(7, activation = 'sigmoid') # Sigmoid function is used in the output layer, for a classification task o/p should be 0 or 1\n",
        "])\n",
        "model.summary()"
      ],
      "metadata": {
        "colab": {
          "base_uri": "https://localhost:8080/"
        },
        "id": "E09DE1wiXStz",
        "outputId": "f0127f2b-63dc-4f7a-ef84-0c6f2464c718"
      },
      "execution_count": null,
      "outputs": [
        {
          "output_type": "stream",
          "name": "stdout",
          "text": [
            "Model: \"sequential\"\n",
            "_________________________________________________________________\n",
            " Layer (type)                Output Shape              Param #   \n",
            "=================================================================\n",
            " dense (Dense)               (None, 2048)              4720640   \n",
            "                                                                 \n",
            " batch_normalization (BatchN  (None, 2048)             8192      \n",
            " ormalization)                                                   \n",
            "                                                                 \n",
            " dense_1 (Dense)             (None, 1024)              2098176   \n",
            "                                                                 \n",
            " batch_normalization_1 (Batc  (None, 1024)             4096      \n",
            " hNormalization)                                                 \n",
            "                                                                 \n",
            " dense_2 (Dense)             (None, 512)               524800    \n",
            "                                                                 \n",
            " batch_normalization_2 (Batc  (None, 512)              2048      \n",
            " hNormalization)                                                 \n",
            "                                                                 \n",
            " dense_3 (Dense)             (None, 256)               131328    \n",
            "                                                                 \n",
            " batch_normalization_3 (Batc  (None, 256)              1024      \n",
            " hNormalization)                                                 \n",
            "                                                                 \n",
            " dense_4 (Dense)             (None, 7)                 1799      \n",
            "                                                                 \n",
            "=================================================================\n",
            "Total params: 7,492,103\n",
            "Trainable params: 7,484,423\n",
            "Non-trainable params: 7,680\n",
            "_________________________________________________________________\n"
          ]
        }
      ]
    },
    {
      "cell_type": "code",
      "source": [
        "adam = keras.optimizers.Adam(learning_rate = 0.0001) # Adam optimizer is a stochastic gradient descent for training ml/deep learning algo and require fewer parameters for tuning.\n",
        "model.compile(optimizer=adam, loss='categorical_crossentropy', metrics = ['accuracy']) \n",
        "# categorical_crossentropy(softmax) loss func used in multiclass classification tasks when true labels are one-hot encoded"
      ],
      "metadata": {
        "id": "V37FvEfXaz6P"
      },
      "execution_count": null,
      "outputs": []
    },
    {
      "cell_type": "code",
      "source": [
        "history = model.fit(x_train, y_train, validation_data = (x_test, y_test), epochs = 50)"
      ],
      "metadata": {
        "colab": {
          "base_uri": "https://localhost:8080/"
        },
        "id": "oQ0HCl95cpg_",
        "outputId": "8886ffd4-c416-4243-838c-0159f9f173ad"
      },
      "execution_count": null,
      "outputs": [
        {
          "output_type": "stream",
          "name": "stdout",
          "text": [
            "Epoch 1/50\n",
            "1770/1770 [==============================] - 119s 66ms/step - loss: 1.6760 - accuracy: 0.3741 - val_loss: 1.8088 - val_accuracy: 0.3231\n",
            "Epoch 2/50\n",
            "1770/1770 [==============================] - 115s 65ms/step - loss: 1.4414 - accuracy: 0.4548 - val_loss: 1.7488 - val_accuracy: 0.3291\n",
            "Epoch 3/50\n",
            "1770/1770 [==============================] - 114s 65ms/step - loss: 1.3602 - accuracy: 0.4836 - val_loss: 1.8459 - val_accuracy: 0.2878\n",
            "Epoch 4/50\n",
            "1770/1770 [==============================] - 114s 64ms/step - loss: 1.2882 - accuracy: 0.5117 - val_loss: 1.5862 - val_accuracy: 0.4028\n",
            "Epoch 5/50\n",
            "1770/1770 [==============================] - 114s 65ms/step - loss: 1.2264 - accuracy: 0.5352 - val_loss: 1.5074 - val_accuracy: 0.4319\n",
            "Epoch 6/50\n",
            "1770/1770 [==============================] - 114s 65ms/step - loss: 1.1855 - accuracy: 0.5515 - val_loss: 2.1112 - val_accuracy: 0.2976\n",
            "Epoch 7/50\n",
            "1770/1770 [==============================] - 114s 65ms/step - loss: 1.1596 - accuracy: 0.5653 - val_loss: 1.5055 - val_accuracy: 0.4389\n",
            "Epoch 8/50\n",
            "1770/1770 [==============================] - 114s 64ms/step - loss: 1.0908 - accuracy: 0.5928 - val_loss: 1.4955 - val_accuracy: 0.4643\n",
            "Epoch 9/50\n",
            "1770/1770 [==============================] - 114s 64ms/step - loss: 1.0337 - accuracy: 0.6157 - val_loss: 1.7993 - val_accuracy: 0.3881\n",
            "Epoch 10/50\n",
            "1770/1770 [==============================] - 114s 64ms/step - loss: 0.9909 - accuracy: 0.6363 - val_loss: 1.4230 - val_accuracy: 0.4890\n",
            "Epoch 11/50\n",
            "1770/1770 [==============================] - 114s 65ms/step - loss: 0.9294 - accuracy: 0.6586 - val_loss: 1.3052 - val_accuracy: 0.5357\n",
            "Epoch 12/50\n",
            "1770/1770 [==============================] - 114s 64ms/step - loss: 0.8726 - accuracy: 0.6843 - val_loss: 1.3178 - val_accuracy: 0.5217\n",
            "Epoch 13/50\n",
            "1770/1770 [==============================] - 114s 64ms/step - loss: 0.8332 - accuracy: 0.6978 - val_loss: 1.9342 - val_accuracy: 0.3917\n",
            "Epoch 14/50\n",
            "1770/1770 [==============================] - 113s 64ms/step - loss: 0.7961 - accuracy: 0.7134 - val_loss: 1.3536 - val_accuracy: 0.5261\n",
            "Epoch 15/50\n",
            "1770/1770 [==============================] - 112s 63ms/step - loss: 0.7476 - accuracy: 0.7310 - val_loss: 1.3314 - val_accuracy: 0.5476\n",
            "Epoch 16/50\n",
            "1770/1770 [==============================] - 112s 63ms/step - loss: 0.7085 - accuracy: 0.7466 - val_loss: 1.1755 - val_accuracy: 0.5959\n",
            "Epoch 17/50\n",
            "1770/1770 [==============================] - 112s 63ms/step - loss: 0.6854 - accuracy: 0.7554 - val_loss: 1.2064 - val_accuracy: 0.5816\n",
            "Epoch 18/50\n",
            "1770/1770 [==============================] - 112s 63ms/step - loss: 0.6416 - accuracy: 0.7708 - val_loss: 1.1317 - val_accuracy: 0.6123\n",
            "Epoch 19/50\n",
            "1770/1770 [==============================] - 112s 63ms/step - loss: 0.6118 - accuracy: 0.7836 - val_loss: 1.2661 - val_accuracy: 0.5938\n",
            "Epoch 20/50\n",
            "1770/1770 [==============================] - 113s 64ms/step - loss: 0.5721 - accuracy: 0.7998 - val_loss: 1.2004 - val_accuracy: 0.6010\n",
            "Epoch 21/50\n",
            "1770/1770 [==============================] - 116s 66ms/step - loss: 0.5367 - accuracy: 0.8100 - val_loss: 1.1036 - val_accuracy: 0.6510\n",
            "Epoch 22/50\n",
            "1770/1770 [==============================] - 116s 66ms/step - loss: 0.4949 - accuracy: 0.8294 - val_loss: 1.3165 - val_accuracy: 0.5972\n",
            "Epoch 23/50\n",
            "1770/1770 [==============================] - 116s 66ms/step - loss: 0.4782 - accuracy: 0.8317 - val_loss: 1.2235 - val_accuracy: 0.6329\n",
            "Epoch 24/50\n",
            "1770/1770 [==============================] - 116s 65ms/step - loss: 0.4346 - accuracy: 0.8510 - val_loss: 1.2128 - val_accuracy: 0.6371\n",
            "Epoch 25/50\n",
            "1770/1770 [==============================] - 116s 65ms/step - loss: 0.4103 - accuracy: 0.8575 - val_loss: 1.1464 - val_accuracy: 0.6466\n",
            "Epoch 26/50\n",
            "1770/1770 [==============================] - 116s 66ms/step - loss: 0.3847 - accuracy: 0.8672 - val_loss: 1.4511 - val_accuracy: 0.5943\n",
            "Epoch 27/50\n",
            "1770/1770 [==============================] - 116s 66ms/step - loss: 0.3710 - accuracy: 0.8723 - val_loss: 1.2271 - val_accuracy: 0.6531\n",
            "Epoch 28/50\n",
            "1770/1770 [==============================] - 116s 66ms/step - loss: 0.3582 - accuracy: 0.8768 - val_loss: 1.1790 - val_accuracy: 0.6558\n",
            "Epoch 29/50\n",
            "1770/1770 [==============================] - 117s 66ms/step - loss: 0.3486 - accuracy: 0.8789 - val_loss: 1.2336 - val_accuracy: 0.6676\n",
            "Epoch 30/50\n",
            "1770/1770 [==============================] - 116s 66ms/step - loss: 0.3491 - accuracy: 0.8795 - val_loss: 1.2099 - val_accuracy: 0.6677\n",
            "Epoch 31/50\n",
            "1770/1770 [==============================] - 117s 66ms/step - loss: 0.3260 - accuracy: 0.8873 - val_loss: 1.1284 - val_accuracy: 0.6909\n",
            "Epoch 32/50\n",
            "1770/1770 [==============================] - 116s 66ms/step - loss: 0.3057 - accuracy: 0.8947 - val_loss: 1.0646 - val_accuracy: 0.7138\n",
            "Epoch 33/50\n",
            "1770/1770 [==============================] - 117s 66ms/step - loss: 0.3024 - accuracy: 0.8937 - val_loss: 1.0825 - val_accuracy: 0.7137\n",
            "Epoch 34/50\n",
            "1770/1770 [==============================] - 116s 66ms/step - loss: 0.2939 - accuracy: 0.8989 - val_loss: 1.0729 - val_accuracy: 0.7294\n",
            "Epoch 35/50\n",
            "1770/1770 [==============================] - 117s 66ms/step - loss: 0.2722 - accuracy: 0.9051 - val_loss: 1.1301 - val_accuracy: 0.7092\n",
            "Epoch 36/50\n",
            "1770/1770 [==============================] - 117s 66ms/step - loss: 0.2786 - accuracy: 0.9040 - val_loss: 1.1254 - val_accuracy: 0.7211\n",
            "Epoch 37/50\n",
            "1770/1770 [==============================] - 118s 66ms/step - loss: 0.2715 - accuracy: 0.9058 - val_loss: 1.0777 - val_accuracy: 0.7272\n",
            "Epoch 38/50\n",
            "1770/1770 [==============================] - 117s 66ms/step - loss: 0.2461 - accuracy: 0.9158 - val_loss: 1.1448 - val_accuracy: 0.7121\n",
            "Epoch 39/50\n",
            "1770/1770 [==============================] - 117s 66ms/step - loss: 0.2492 - accuracy: 0.9154 - val_loss: 1.3634 - val_accuracy: 0.6649\n",
            "Epoch 40/50\n",
            "1770/1770 [==============================] - 117s 66ms/step - loss: 0.2400 - accuracy: 0.9169 - val_loss: 1.4196 - val_accuracy: 0.6514\n",
            "Epoch 41/50\n",
            "1770/1770 [==============================] - 117s 66ms/step - loss: 0.2466 - accuracy: 0.9154 - val_loss: 1.1688 - val_accuracy: 0.7245\n",
            "Epoch 42/50\n",
            "1770/1770 [==============================] - 117s 66ms/step - loss: 0.2352 - accuracy: 0.9176 - val_loss: 1.2587 - val_accuracy: 0.6839\n",
            "Epoch 43/50\n",
            "1770/1770 [==============================] - 117s 66ms/step - loss: 0.2179 - accuracy: 0.9255 - val_loss: 1.2101 - val_accuracy: 0.7133\n",
            "Epoch 44/50\n",
            "1770/1770 [==============================] - 117s 66ms/step - loss: 0.2206 - accuracy: 0.9241 - val_loss: 1.1397 - val_accuracy: 0.7405\n",
            "Epoch 45/50\n",
            "1770/1770 [==============================] - 117s 66ms/step - loss: 0.2119 - accuracy: 0.9276 - val_loss: 1.1975 - val_accuracy: 0.7170\n",
            "Epoch 46/50\n",
            "1770/1770 [==============================] - 117s 66ms/step - loss: 0.2003 - accuracy: 0.9309 - val_loss: 1.3208 - val_accuracy: 0.6960\n",
            "Epoch 47/50\n",
            "1770/1770 [==============================] - 117s 66ms/step - loss: 0.1955 - accuracy: 0.9333 - val_loss: 1.2175 - val_accuracy: 0.7238\n",
            "Epoch 48/50\n",
            "1770/1770 [==============================] - 118s 67ms/step - loss: 0.1938 - accuracy: 0.9336 - val_loss: 1.3115 - val_accuracy: 0.7164\n",
            "Epoch 49/50\n",
            "1770/1770 [==============================] - 117s 66ms/step - loss: 0.1858 - accuracy: 0.9363 - val_loss: 1.2239 - val_accuracy: 0.7195\n",
            "Epoch 50/50\n",
            "1770/1770 [==============================] - 117s 66ms/step - loss: 0.1919 - accuracy: 0.9339 - val_loss: 1.2515 - val_accuracy: 0.7054\n"
          ]
        }
      ]
    },
    {
      "cell_type": "code",
      "source": [
        "print(\"Accuracy of our model for validation data: \", model.evaluate(x_test,y_test)[1]*100, \"%\")"
      ],
      "metadata": {
        "colab": {
          "base_uri": "https://localhost:8080/"
        },
        "id": "_ExfdZch30Kd",
        "outputId": "acd925db-983a-48d9-8c0a-f9a43c3e23c9"
      },
      "execution_count": null,
      "outputs": [
        {
          "output_type": "stream",
          "name": "stdout",
          "text": [
            "197/197 [==============================] - 4s 19ms/step - loss: 1.2515 - accuracy: 0.7054\n",
            "Accuracy of our model for validation data:  70.53869366645813 %\n"
          ]
        }
      ]
    },
    {
      "cell_type": "code",
      "source": [
        "#summarize history for accuracy\n",
        "plt.plot(history.history['accuracy'])\n",
        "plt.plot(history.history['val_accuracy'])\n",
        "plt.title('Model accuracy')\n",
        "plt.xlabel('epochs')\n",
        "plt.ylabel('accuracy')\n",
        "plt.legend(('train', 'test'), loc='upper left')\n",
        "plt.show()\n",
        "#summarize history for loss\n",
        "plt.plot(history.history['loss'])\n",
        "plt.plot(history.history['val_loss'])\n",
        "plt.title('Model loss')\n",
        "plt.xlabel('epochs')\n",
        "plt.ylabel('loss')\n",
        "plt.legend(('train', 'test'), loc='upper right')\n",
        "plt.show()"
      ],
      "metadata": {
        "colab": {
          "base_uri": "https://localhost:8080/",
          "height": 573
        },
        "id": "pF8MsHLK74ZR",
        "outputId": "df6116ec-b1a0-479f-ebf2-13892bde6c1a"
      },
      "execution_count": null,
      "outputs": [
        {
          "output_type": "display_data",
          "data": {
            "text/plain": [
              "<Figure size 432x288 with 1 Axes>"
            ],
            "image/png": "[encoded data removed]"
          },
          "metadata": {
            "needs_background": "light"
          }
        },
        {
          "output_type": "display_data",
          "data": {
            "text/plain": [
              "<Figure size 432x288 with 1 Axes>"
            ],
            "image/png": "[encoded data removed]"
          },
          "metadata": {
            "needs_background": "light"
          }
        }
      ]
    },
    {
      "cell_type": "code",
      "source": [
        "# comparing the predicted values for the first 10 faces\n",
        "predictions = model.predict(x_test)\n",
        "y_pred = []\n",
        "\n",
        "for p in predictions :\n",
        "  y_pred.append(np.argmax(p)) # argmax func returns the index of the maximum value along an axis.\n",
        "y_pred[:10]"
      ],
      "metadata": {
        "colab": {
          "base_uri": "https://localhost:8080/"
        },
        "id": "1fZAojfhFM6q",
        "outputId": "61316294-0cba-4039-f278-1449fe636642"
      },
      "execution_count": null,
      "outputs": [
        {
          "output_type": "execute_result",
          "data": {
            "text/plain": [
              "[6, 5, 5, 6, 1, 0, 3, 2, 1, 3]"
            ]
          },
          "metadata": {},
          "execution_count": 21
        }
      ]
    },
    {
      "cell_type": "code",
      "source": [
        "y_actual = []\n",
        "\n",
        "for a in y_test :\n",
        "  y_actual.append(np.argmax(a))\n",
        "y_actual[:10]"
      ],
      "metadata": {
        "colab": {
          "base_uri": "https://localhost:8080/"
        },
        "id": "ljA2YT1sWwCy",
        "outputId": "3b81d42e-0520-4a11-cf0c-54d6802c6e0a"
      },
      "execution_count": null,
      "outputs": [
        {
          "output_type": "execute_result",
          "data": {
            "text/plain": [
              "[6, 5, 5, 6, 1, 0, 3, 4, 1, 3]"
            ]
          },
          "metadata": {},
          "execution_count": 22
        }
      ]
    },
    {
      "cell_type": "code",
      "source": [
        "from sklearn.metrics import classification_report, confusion_matrix\n",
        "print(classification_report(y_actual, y_pred))"
      ],
      "metadata": {
        "colab": {
          "base_uri": "https://localhost:8080/"
        },
        "id": "e-eo4VTPXPJY",
        "outputId": "4ab81fdc-f548-4922-fb7c-51d9cc06ff94"
      },
      "execution_count": null,
      "outputs": [
        {
          "output_type": "stream",
          "name": "stdout",
          "text": [
            "              precision    recall  f1-score   support\n",
            "\n",
            "           0       0.75      0.64      0.69       935\n",
            "           1       0.95      0.99      0.97       895\n",
            "           2       0.63      0.73      0.68       880\n",
            "           3       0.54      0.57      0.56       906\n",
            "           4       0.61      0.62      0.62       888\n",
            "           5       0.83      0.80      0.81       869\n",
            "           6       0.65      0.59      0.62       920\n",
            "\n",
            "    accuracy                           0.71      6293\n",
            "   macro avg       0.71      0.71      0.71      6293\n",
            "weighted avg       0.71      0.71      0.71      6293\n",
            "\n"
          ]
        }
      ]
    },
    {
      "cell_type": "code",
      "source": [
        "import seaborn as sn \n",
        "# A confusion matrix is used to describe the performance of a classification model on a set of test data for which the true values are known\n",
        "cm = tf.math.confusion_matrix(labels = y_actual, predictions = y_pred)\n",
        "\n",
        "plt.figure(figsize = (10,7))\n",
        "sn.heatmap(cm, annot = True, fmt = 'd')\n",
        "plt.xlabel('Predicted')\n",
        "plt.ylabel('Truth')"
      ],
      "metadata": {
        "colab": {
          "base_uri": "https://localhost:8080/",
          "height": 459
        },
        "id": "RKZmKOPWYG76",
        "outputId": "6023c387-acdf-43de-bd3e-fbdc009c4005"
      },
      "execution_count": null,
      "outputs": [
        {
          "output_type": "execute_result",
          "data": {
            "text/plain": [
              "Text(69.0, 0.5, 'Truth')"
            ]
          },
          "metadata": {},
          "execution_count": 24
        },
        {
          "output_type": "display_data",
          "data": {
            "text/plain": [
              "<Figure size 720x504 with 2 Axes>"
            ],
            "image/png": "[encoded data removed]"
          },
          "metadata": {
            "needs_background": "light"
          }
        }
      ]
    }
  ]
}